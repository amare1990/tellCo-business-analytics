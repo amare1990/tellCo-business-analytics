{
 "cells": [
  {
   "cell_type": "code",
   "execution_count": 7,
   "id": "2a1fca4c-04ea-43d0-a3ef-25cd88daaaa6",
   "metadata": {},
   "outputs": [],
   "source": [
    "# Getting parent directory of current direc and adding into the system path\n",
    "import os, sys\n",
    "parent_dir = os.path.dirname(os.getcwd())\n",
    "sys.path.insert(0, parent_dir)"
   ]
  },
  {
   "cell_type": "code",
   "execution_count": 8,
   "id": "c35330a6-b186-4217-bcbd-c160a6944c1d",
   "metadata": {},
   "outputs": [],
   "source": [
    "import pandas as pd\n",
    "import numpy as np"
   ]
  },
  {
   "cell_type": "code",
   "execution_count": 9,
   "id": "42327099-a837-4fa7-a8d7-ca9891527798",
   "metadata": {},
   "outputs": [],
   "source": [
    "df = pd.read_csv(\"/home/am/Documents/Software Development/10_Academy Training/week2/Data/Copy of Week2_challenge_data_source(CSV).csv\")"
   ]
  },
  {
   "cell_type": "code",
   "execution_count": 10,
   "id": "08e78140-93a9-42fe-ad9d-f79abc793ed7",
   "metadata": {},
   "outputs": [],
   "source": [
    "# from scripts.user_satisfaction_analysis import UserSatisfactionAnalyzer\n",
    "# user_satisfaction = UserSatisfactionAnalyzer(df)"
   ]
  },
  {
   "cell_type": "code",
   "execution_count": 11,
   "id": "8842f532-6663-486f-b5d8-4181d7c1622d",
   "metadata": {},
   "outputs": [],
   "source": [
    "from scripts.export_to_postgres_database import UserSatisfaction\n",
    "user_satisfaction_database = UserSatisfaction(\"MSISDN/Number\", \"engagement_score\" , \"experience_score\", \"satisfaction_score\")"
   ]
  },
  {
   "cell_type": "code",
   "execution_count": 12,
   "id": "b0b1154b-3d2a-4a59-861f-7535445fc4fd",
   "metadata": {},
   "outputs": [],
   "source": [
    "user_satisfaction_database.export_to_postgresql()"
   ]
  },
  {
   "cell_type": "code",
   "execution_count": null,
   "id": "a9130a55-aba9-4d24-870b-d2f7b56ece5c",
   "metadata": {},
   "outputs": [],
   "source": []
  }
 ],
 "metadata": {
  "kernelspec": {
   "display_name": "Python 3 (ipykernel)",
   "language": "python",
   "name": "python3"
  },
  "language_info": {
   "codemirror_mode": {
    "name": "ipython",
    "version": 3
   },
   "file_extension": ".py",
   "mimetype": "text/x-python",
   "name": "python",
   "nbconvert_exporter": "python",
   "pygments_lexer": "ipython3",
   "version": "3.8.10"
  }
 },
 "nbformat": 4,
 "nbformat_minor": 5
}
