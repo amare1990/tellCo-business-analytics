{
 "cells": [
  {
   "cell_type": "code",
   "execution_count": 1,
   "id": "9566dcb7-bea8-40e3-b213-048bc33e7102",
   "metadata": {},
   "outputs": [],
   "source": [
    "# Getting parent directory of current direc and adding into the system path\n",
    "import os, sys\n",
    "parent_dir = os.path.dirname(os.getcwd())\n",
    "sys.path.insert(0, parent_dir)\n"
   ]
  },
  {
   "cell_type": "code",
   "execution_count": 2,
   "id": "5d2e11ad-0027-4ff4-8ffa-d087709b00b8",
   "metadata": {},
   "outputs": [],
   "source": [
    "import pandas as pd\n",
    "import numpy as np"
   ]
  },
  {
   "cell_type": "code",
   "execution_count": 3,
   "id": "34fd00c1-9ab6-4d0a-9a8a-d005b2b67191",
   "metadata": {},
   "outputs": [],
   "source": [
    "df = pd.read_csv(\"/home/am/Documents/Software Development/10_Academy Training/week2/Data/Copy of Week2_challenge_data_source(CSV).csv\")"
   ]
  },
  {
   "cell_type": "code",
   "execution_count": 4,
   "id": "760eface-3eba-4b92-9b8a-c3c1551b98c6",
   "metadata": {},
   "outputs": [
    {
     "data": {
      "text/plain": [
       "Index(['Bearer Id', 'Start', 'Start ms', 'End', 'End ms', 'Dur. (ms)', 'IMSI',\n",
       "       'MSISDN/Number', 'IMEI', 'Last Location Name', 'Avg RTT DL (ms)',\n",
       "       'Avg RTT UL (ms)', 'Avg Bearer TP DL (kbps)', 'Avg Bearer TP UL (kbps)',\n",
       "       'TCP DL Retrans. Vol (Bytes)', 'TCP UL Retrans. Vol (Bytes)',\n",
       "       'DL TP < 50 Kbps (%)', '50 Kbps < DL TP < 250 Kbps (%)',\n",
       "       '250 Kbps < DL TP < 1 Mbps (%)', 'DL TP > 1 Mbps (%)',\n",
       "       'UL TP < 10 Kbps (%)', '10 Kbps < UL TP < 50 Kbps (%)',\n",
       "       '50 Kbps < UL TP < 300 Kbps (%)', 'UL TP > 300 Kbps (%)',\n",
       "       'HTTP DL (Bytes)', 'HTTP UL (Bytes)', 'Activity Duration DL (ms)',\n",
       "       'Activity Duration UL (ms)', 'Dur. (ms).1', 'Handset Manufacturer',\n",
       "       'Handset Type', 'Nb of sec with 125000B < Vol DL',\n",
       "       'Nb of sec with 1250B < Vol UL < 6250B',\n",
       "       'Nb of sec with 31250B < Vol DL < 125000B',\n",
       "       'Nb of sec with 37500B < Vol UL',\n",
       "       'Nb of sec with 6250B < Vol DL < 31250B',\n",
       "       'Nb of sec with 6250B < Vol UL < 37500B',\n",
       "       'Nb of sec with Vol DL < 6250B', 'Nb of sec with Vol UL < 1250B',\n",
       "       'Social Media DL (Bytes)', 'Social Media UL (Bytes)',\n",
       "       'Google DL (Bytes)', 'Google UL (Bytes)', 'Email DL (Bytes)',\n",
       "       'Email UL (Bytes)', 'Youtube DL (Bytes)', 'Youtube UL (Bytes)',\n",
       "       'Netflix DL (Bytes)', 'Netflix UL (Bytes)', 'Gaming DL (Bytes)',\n",
       "       'Gaming UL (Bytes)', 'Other DL (Bytes)', 'Other UL (Bytes)',\n",
       "       'Total UL (Bytes)', 'Total DL (Bytes)'],\n",
       "      dtype='object')"
      ]
     },
     "execution_count": 4,
     "metadata": {},
     "output_type": "execute_result"
    }
   ],
   "source": [
    "df.columns"
   ]
  },
  {
   "cell_type": "code",
   "execution_count": 5,
   "id": "b025ba52-55fa-4715-b116-e087a6efe196",
   "metadata": {},
   "outputs": [],
   "source": [
    "# Import user enagement module and load data from the postgresql database\n",
    "from scripts.user_engagement_analysis import UserEngagementAnalysis\n",
    "user_engagement = UserEngagementAnalysis()\n"
   ]
  },
  {
   "cell_type": "code",
   "execution_count": 6,
   "id": "37b4c6a5-3318-4f17-b055-1dd3b77fc33b",
   "metadata": {},
   "outputs": [],
   "source": [
    "aggregated_data, top10_custs = user_engagement.aggregate_metrics(df)"
   ]
  },
  {
   "cell_type": "raw",
   "id": "05687623-200e-4944-87bc-66f65c91af26",
   "metadata": {},
   "source": [
    "aggregated_data[\"session_frequency\"]"
   ]
  },
  {
   "cell_type": "code",
   "execution_count": 7,
   "id": "4d259a70-12dc-4da3-9ee8-80573d80848c",
   "metadata": {},
   "outputs": [
    {
     "name": "stdout",
     "output_type": "stream",
     "text": [
      "       MSISDN/Number  session_frequency  session_duration  session_traffic\n",
      "13526   3.362632e+10              324.0         8791927.0     7.971167e+09\n",
      "6437    3.361489e+10              289.0         9966898.0     8.846226e+09\n",
      "13180   3.362578e+10              289.0        18553754.0     8.499621e+09\n",
      "37052   3.365973e+10              256.0         4035428.0     7.705863e+09\n",
      "76363   3.367588e+10              225.0         4865947.0     7.891111e+09\n",
      "92923   3.376054e+10              225.0         9279434.0     8.514774e+09\n",
      "65118   3.366716e+10              169.0         8744914.0     5.618394e+09\n",
      "666     3.360313e+10              144.0         6287761.0     4.976195e+09\n",
      "1279    3.360452e+10              144.0         5207990.0     5.487855e+09\n",
      "13994   3.362708e+10              144.0         4703516.0     5.754731e+09\n",
      "\n",
      "\n",
      "============================================================================\n",
      "       MSISDN/Number  session_frequency  session_duration  session_traffic\n",
      "13180   3.362578e+10              289.0        18553754.0     8.499621e+09\n",
      "6437    3.361489e+10              289.0         9966898.0     8.846226e+09\n",
      "92923   3.376054e+10              225.0         9279434.0     8.514774e+09\n",
      "13526   3.362632e+10              324.0         8791927.0     7.971167e+09\n",
      "65118   3.366716e+10              169.0         8744914.0     5.618394e+09\n",
      "50281   3.366284e+10               81.0         6614270.0     4.000098e+09\n",
      "57160   3.366469e+10               81.0         6288730.0     5.682007e+09\n",
      "666     3.360313e+10              144.0         6287761.0     4.976195e+09\n",
      "66029   3.366746e+10               36.0         5649882.0     2.600522e+09\n",
      "92577   3.376041e+10              144.0         5321667.0     7.132371e+09\n",
      "\n",
      "\n",
      "============================================================================\n",
      "       MSISDN/Number  session_frequency  session_duration  session_traffic\n",
      "6437    3.361489e+10              289.0         9966898.0     8.846226e+09\n",
      "92923   3.376054e+10              225.0         9279434.0     8.514774e+09\n",
      "13180   3.362578e+10              289.0        18553754.0     8.499621e+09\n",
      "13526   3.362632e+10              324.0         8791927.0     7.971167e+09\n",
      "76363   3.367588e+10              225.0         4865947.0     7.891111e+09\n",
      "37052   3.365973e+10              256.0         4035428.0     7.705863e+09\n",
      "63028   3.366646e+10              121.0         4536757.0     7.308501e+09\n",
      "92577   3.376041e+10              144.0         5321667.0     7.132371e+09\n",
      "57241   3.366471e+10              121.0         2927785.0     6.872018e+09\n",
      "86455   3.369879e+10              121.0         5169128.0     6.540899e+09\n"
     ]
    }
   ],
   "source": [
    "print(top10_custs[\"session_frequency\"])\n",
    "print(\"\\n\\n============================================================================\")\n",
    "print(top10_custs['session_duration'])\n",
    "print(\"\\n\\n============================================================================\")\n",
    "print(top10_custs[\"session_traffic\"])"
   ]
  },
  {
   "cell_type": "code",
   "execution_count": 8,
   "id": "3a17c702-dc3f-44ce-a93b-1786d3955434",
   "metadata": {},
   "outputs": [],
   "source": [
    "agg_data, kmeans = user_engagement.normalize_and_cluster(aggregated_data, k=3)"
   ]
  },
  {
   "cell_type": "code",
   "execution_count": 14,
   "id": "9dbcca5f-a2e8-4d4f-9745-df4261a25b07",
   "metadata": {},
   "outputs": [
    {
     "data": {
      "text/plain": [
       "Index(['MSISDN/Number', 'session_frequency', 'session_duration',\n",
       "       'session_traffic', 'cluster'],\n",
       "      dtype='object')"
      ]
     },
     "execution_count": 14,
     "metadata": {},
     "output_type": "execute_result"
    }
   ],
   "source": [
    "agg_data.columns"
   ]
  },
  {
   "cell_type": "code",
   "execution_count": 17,
   "id": "828fcf85-8ac2-48a2-8ee3-a2a7ecc7c468",
   "metadata": {},
   "outputs": [
    {
     "data": {
      "text/plain": [
       "Index(['MSISDN/Number', 'session_frequency', 'session_duration',\n",
       "       'session_traffic', 'cluster'],\n",
       "      dtype='object')"
      ]
     },
     "execution_count": 17,
     "metadata": {},
     "output_type": "execute_result"
    }
   ],
   "source": [
    "aggregated_data.columns"
   ]
  },
  {
   "cell_type": "code",
   "execution_count": 22,
   "id": "f625aa51-a3bd-4335-ba5a-271b0dd407c7",
   "metadata": {},
   "outputs": [
    {
     "data": {
      "text/plain": [
       "Index(['Bearer Id', 'Start', 'Start ms', 'End', 'End ms', 'Dur. (ms)', 'IMSI',\n",
       "       'MSISDN/Number', 'IMEI', 'Last Location Name', 'Avg RTT DL (ms)',\n",
       "       'Avg RTT UL (ms)', 'Avg Bearer TP DL (kbps)', 'Avg Bearer TP UL (kbps)',\n",
       "       'TCP DL Retrans. Vol (Bytes)', 'TCP UL Retrans. Vol (Bytes)',\n",
       "       'DL TP < 50 Kbps (%)', '50 Kbps < DL TP < 250 Kbps (%)',\n",
       "       '250 Kbps < DL TP < 1 Mbps (%)', 'DL TP > 1 Mbps (%)',\n",
       "       'UL TP < 10 Kbps (%)', '10 Kbps < UL TP < 50 Kbps (%)',\n",
       "       '50 Kbps < UL TP < 300 Kbps (%)', 'UL TP > 300 Kbps (%)',\n",
       "       'HTTP DL (Bytes)', 'HTTP UL (Bytes)', 'Activity Duration DL (ms)',\n",
       "       'Activity Duration UL (ms)', 'Dur. (ms).1', 'Handset Manufacturer',\n",
       "       'Handset Type', 'Nb of sec with 125000B < Vol DL',\n",
       "       'Nb of sec with 1250B < Vol UL < 6250B',\n",
       "       'Nb of sec with 31250B < Vol DL < 125000B',\n",
       "       'Nb of sec with 37500B < Vol UL',\n",
       "       'Nb of sec with 6250B < Vol DL < 31250B',\n",
       "       'Nb of sec with 6250B < Vol UL < 37500B',\n",
       "       'Nb of sec with Vol DL < 6250B', 'Nb of sec with Vol UL < 1250B',\n",
       "       'Social Media DL (Bytes)', 'Social Media UL (Bytes)',\n",
       "       'Google DL (Bytes)', 'Google UL (Bytes)', 'Email DL (Bytes)',\n",
       "       'Email UL (Bytes)', 'Youtube DL (Bytes)', 'Youtube UL (Bytes)',\n",
       "       'Netflix DL (Bytes)', 'Netflix UL (Bytes)', 'Gaming DL (Bytes)',\n",
       "       'Gaming UL (Bytes)', 'Other DL (Bytes)', 'Other UL (Bytes)',\n",
       "       'Total UL (Bytes)', 'Total DL (Bytes)', 'Social Media_traffic',\n",
       "       'Google_traffic', 'Email_traffic', 'YouTube_traffic', 'Netflix_traffic',\n",
       "       'Gaming_traffic', 'Other_traffic'],\n",
       "      dtype='object')"
      ]
     },
     "execution_count": 22,
     "metadata": {},
     "output_type": "execute_result"
    }
   ],
   "source": [
    "df.columns"
   ]
  },
  {
   "cell_type": "code",
   "execution_count": 15,
   "id": "e8020deb-c706-463d-8a88-31e3bfd91322",
   "metadata": {},
   "outputs": [],
   "source": [
    "stats = user_engagement.compute_cluster_statistics(aggregated_data)"
   ]
  },
  {
   "cell_type": "code",
   "execution_count": 16,
   "id": "86bbfa1a-daa2-4af7-ac22-1ebba0bb8c3d",
   "metadata": {},
   "outputs": [
    {
     "data": {
      "text/html": [
       "<div>\n",
       "<style scoped>\n",
       "    .dataframe tbody tr th:only-of-type {\n",
       "        vertical-align: middle;\n",
       "    }\n",
       "\n",
       "    .dataframe tbody tr th {\n",
       "        vertical-align: top;\n",
       "    }\n",
       "\n",
       "    .dataframe thead tr th {\n",
       "        text-align: left;\n",
       "    }\n",
       "\n",
       "    .dataframe thead tr:last-of-type th {\n",
       "        text-align: right;\n",
       "    }\n",
       "</style>\n",
       "<table border=\"1\" class=\"dataframe\">\n",
       "  <thead>\n",
       "    <tr>\n",
       "      <th></th>\n",
       "      <th colspan=\"4\" halign=\"left\">session_frequency</th>\n",
       "      <th colspan=\"4\" halign=\"left\">session_duration</th>\n",
       "      <th colspan=\"4\" halign=\"left\">session_traffic</th>\n",
       "    </tr>\n",
       "    <tr>\n",
       "      <th></th>\n",
       "      <th>min</th>\n",
       "      <th>max</th>\n",
       "      <th>mean</th>\n",
       "      <th>sum</th>\n",
       "      <th>min</th>\n",
       "      <th>max</th>\n",
       "      <th>mean</th>\n",
       "      <th>sum</th>\n",
       "      <th>min</th>\n",
       "      <th>max</th>\n",
       "      <th>mean</th>\n",
       "      <th>sum</th>\n",
       "    </tr>\n",
       "    <tr>\n",
       "      <th>cluster</th>\n",
       "      <th></th>\n",
       "      <th></th>\n",
       "      <th></th>\n",
       "      <th></th>\n",
       "      <th></th>\n",
       "      <th></th>\n",
       "      <th></th>\n",
       "      <th></th>\n",
       "      <th></th>\n",
       "      <th></th>\n",
       "      <th></th>\n",
       "      <th></th>\n",
       "    </tr>\n",
       "  </thead>\n",
       "  <tbody>\n",
       "    <tr>\n",
       "      <th>0</th>\n",
       "      <td>0.0</td>\n",
       "      <td>25.0</td>\n",
       "      <td>2.333489</td>\n",
       "      <td>110164.0</td>\n",
       "      <td>7146.0</td>\n",
       "      <td>3174824.0</td>\n",
       "      <td>140867.038721</td>\n",
       "      <td>6.650333e+09</td>\n",
       "      <td>5.849202e+08</td>\n",
       "      <td>1.427100e+09</td>\n",
       "      <td>8.483228e+08</td>\n",
       "      <td>4.004932e+13</td>\n",
       "    </tr>\n",
       "    <tr>\n",
       "      <th>1</th>\n",
       "      <td>0.0</td>\n",
       "      <td>16.0</td>\n",
       "      <td>1.179788</td>\n",
       "      <td>60240.0</td>\n",
       "      <td>7142.0</td>\n",
       "      <td>1576929.0</td>\n",
       "      <td>108487.442812</td>\n",
       "      <td>5.539369e+09</td>\n",
       "      <td>3.324901e+07</td>\n",
       "      <td>5.986492e+08</td>\n",
       "      <td>3.420319e+08</td>\n",
       "      <td>1.746415e+13</td>\n",
       "    </tr>\n",
       "    <tr>\n",
       "      <th>2</th>\n",
       "      <td>2.0</td>\n",
       "      <td>324.0</td>\n",
       "      <td>12.359655</td>\n",
       "      <td>106120.0</td>\n",
       "      <td>23292.0</td>\n",
       "      <td>18553754.0</td>\n",
       "      <td>399386.900536</td>\n",
       "      <td>3.429136e+09</td>\n",
       "      <td>1.244485e+09</td>\n",
       "      <td>8.846226e+09</td>\n",
       "      <td>1.900766e+09</td>\n",
       "      <td>1.631998e+13</td>\n",
       "    </tr>\n",
       "  </tbody>\n",
       "</table>\n",
       "</div>"
      ],
      "text/plain": [
       "        session_frequency                             session_duration  \\\n",
       "                      min    max       mean       sum              min   \n",
       "cluster                                                                  \n",
       "0                     0.0   25.0   2.333489  110164.0           7146.0   \n",
       "1                     0.0   16.0   1.179788   60240.0           7142.0   \n",
       "2                     2.0  324.0  12.359655  106120.0          23292.0   \n",
       "\n",
       "                                                 session_traffic  \\\n",
       "                max           mean           sum             min   \n",
       "cluster                                                            \n",
       "0         3174824.0  140867.038721  6.650333e+09    5.849202e+08   \n",
       "1         1576929.0  108487.442812  5.539369e+09    3.324901e+07   \n",
       "2        18553754.0  399386.900536  3.429136e+09    1.244485e+09   \n",
       "\n",
       "                                                   \n",
       "                  max          mean           sum  \n",
       "cluster                                            \n",
       "0        1.427100e+09  8.483228e+08  4.004932e+13  \n",
       "1        5.986492e+08  3.420319e+08  1.746415e+13  \n",
       "2        8.846226e+09  1.900766e+09  1.631998e+13  "
      ]
     },
     "execution_count": 16,
     "metadata": {},
     "output_type": "execute_result"
    }
   ],
   "source": [
    "stats"
   ]
  },
  {
   "cell_type": "code",
   "execution_count": 18,
   "id": "29a7a1f2-0e81-4e1b-b0bc-7120f9be401e",
   "metadata": {},
   "outputs": [],
   "source": [
    "app_traffic, top_users_per_app = user_engagement.aggregate_traffic_per_app(df)"
   ]
  },
  {
   "cell_type": "code",
   "execution_count": 35,
   "id": "995a7aa7-fb61-4da3-81fd-5afaa1b55255",
   "metadata": {},
   "outputs": [
    {
     "data": {
      "text/plain": [
       "Index(['MSISDN/Number', 'session_traffic', 'application'], dtype='object')"
      ]
     },
     "execution_count": 35,
     "metadata": {},
     "output_type": "execute_result"
    }
   ],
   "source": [
    "app_traffic.columns"
   ]
  },
  {
   "cell_type": "code",
   "execution_count": 39,
   "id": "6740c42e-8393-4670-ae25-80fa326d96ab",
   "metadata": {},
   "outputs": [
    {
     "name": "stdout",
     "output_type": "stream",
     "text": [
      "<class 'pandas.core.frame.DataFrame'>\n",
      "Index: 106856 entries, 0 to 106855\n",
      "Data columns (total 3 columns):\n",
      " #   Column           Non-Null Count   Dtype  \n",
      "---  ------           --------------   -----  \n",
      " 0   MSISDN/Number    106856 non-null  float64\n",
      " 1   session_traffic  106856 non-null  float64\n",
      " 2   application      106856 non-null  object \n",
      "dtypes: float64(2), object(1)\n",
      "memory usage: 3.3+ MB\n"
     ]
    }
   ],
   "source": [
    "app_traffic[app_traffic['application']==\"Social Media\"].info()"
   ]
  },
  {
   "cell_type": "code",
   "execution_count": 44,
   "id": "e1639d7f-ebf9-4e16-aa04-6f12a11b1418",
   "metadata": {},
   "outputs": [
    {
     "data": {
      "text/plain": [
       "array(['Social Media', 'Google', 'Email', 'YouTube', 'Netflix', 'Gaming',\n",
       "       'Other'], dtype=object)"
      ]
     },
     "execution_count": 44,
     "metadata": {},
     "output_type": "execute_result"
    }
   ],
   "source": [
    "app_traffic['application'].unique()"
   ]
  },
  {
   "cell_type": "code",
   "execution_count": 41,
   "id": "bdf3b4ba-6fad-44a7-bb7f-38e78396e2e8",
   "metadata": {},
   "outputs": [
    {
     "data": {
      "text/plain": [
       "Index(['MSISDN/Number', 'session_traffic', 'application'], dtype='object')"
      ]
     },
     "execution_count": 41,
     "metadata": {},
     "output_type": "execute_result"
    }
   ],
   "source": [
    "top_users_per_app.columns"
   ]
  },
  {
   "cell_type": "code",
   "execution_count": 47,
   "id": "6d38108f-2b9f-44c2-afee-ea536d94a59f",
   "metadata": {},
   "outputs": [
    {
     "data": {
      "text/html": [
       "<div>\n",
       "<style scoped>\n",
       "    .dataframe tbody tr th:only-of-type {\n",
       "        vertical-align: middle;\n",
       "    }\n",
       "\n",
       "    .dataframe tbody tr th {\n",
       "        vertical-align: top;\n",
       "    }\n",
       "\n",
       "    .dataframe thead th {\n",
       "        text-align: right;\n",
       "    }\n",
       "</style>\n",
       "<table border=\"1\" class=\"dataframe\">\n",
       "  <thead>\n",
       "    <tr style=\"text-align: right;\">\n",
       "      <th></th>\n",
       "      <th>MSISDN/Number</th>\n",
       "      <th>session_traffic</th>\n",
       "      <th>application</th>\n",
       "    </tr>\n",
       "  </thead>\n",
       "  <tbody>\n",
       "    <tr>\n",
       "      <th>227238</th>\n",
       "      <td>3.362632e+10</td>\n",
       "      <td>42418782.0</td>\n",
       "      <td>Email</td>\n",
       "    </tr>\n",
       "    <tr>\n",
       "      <th>220149</th>\n",
       "      <td>3.361489e+10</td>\n",
       "      <td>40788634.0</td>\n",
       "      <td>Email</td>\n",
       "    </tr>\n",
       "    <tr>\n",
       "      <th>226892</th>\n",
       "      <td>3.362578e+10</td>\n",
       "      <td>40633966.0</td>\n",
       "      <td>Email</td>\n",
       "    </tr>\n",
       "    <tr>\n",
       "      <th>319849</th>\n",
       "      <td>3.378632e+10</td>\n",
       "      <td>36310123.0</td>\n",
       "      <td>Email</td>\n",
       "    </tr>\n",
       "    <tr>\n",
       "      <th>250764</th>\n",
       "      <td>3.365973e+10</td>\n",
       "      <td>35999792.0</td>\n",
       "      <td>Email</td>\n",
       "    </tr>\n",
       "    <tr>\n",
       "      <th>306635</th>\n",
       "      <td>3.376054e+10</td>\n",
       "      <td>33693767.0</td>\n",
       "      <td>Email</td>\n",
       "    </tr>\n",
       "    <tr>\n",
       "      <th>290075</th>\n",
       "      <td>3.367588e+10</td>\n",
       "      <td>31514421.0</td>\n",
       "      <td>Email</td>\n",
       "    </tr>\n",
       "    <tr>\n",
       "      <th>273799</th>\n",
       "      <td>3.366546e+10</td>\n",
       "      <td>30417885.0</td>\n",
       "      <td>Email</td>\n",
       "    </tr>\n",
       "    <tr>\n",
       "      <th>278830</th>\n",
       "      <td>3.366716e+10</td>\n",
       "      <td>30335796.0</td>\n",
       "      <td>Email</td>\n",
       "    </tr>\n",
       "    <tr>\n",
       "      <th>300167</th>\n",
       "      <td>3.369879e+10</td>\n",
       "      <td>29059042.0</td>\n",
       "      <td>Email</td>\n",
       "    </tr>\n",
       "  </tbody>\n",
       "</table>\n",
       "</div>"
      ],
      "text/plain": [
       "        MSISDN/Number  session_traffic application\n",
       "227238   3.362632e+10       42418782.0       Email\n",
       "220149   3.361489e+10       40788634.0       Email\n",
       "226892   3.362578e+10       40633966.0       Email\n",
       "319849   3.378632e+10       36310123.0       Email\n",
       "250764   3.365973e+10       35999792.0       Email\n",
       "306635   3.376054e+10       33693767.0       Email\n",
       "290075   3.367588e+10       31514421.0       Email\n",
       "273799   3.366546e+10       30417885.0       Email\n",
       "278830   3.366716e+10       30335796.0       Email\n",
       "300167   3.369879e+10       29059042.0       Email"
      ]
     },
     "execution_count": 47,
     "metadata": {},
     "output_type": "execute_result"
    }
   ],
   "source": [
    "top_users_per_app[top_users_per_app['application']=='Emai']"
   ]
  },
  {
   "cell_type": "code",
   "execution_count": null,
   "id": "92abcd1f-8df1-4a0b-93da-e75aa4eae719",
   "metadata": {},
   "outputs": [],
   "source": []
  }
 ],
 "metadata": {
  "kernelspec": {
   "display_name": "Python 3 (ipykernel)",
   "language": "python",
   "name": "python3"
  },
  "language_info": {
   "codemirror_mode": {
    "name": "ipython",
    "version": 3
   },
   "file_extension": ".py",
   "mimetype": "text/x-python",
   "name": "python",
   "nbconvert_exporter": "python",
   "pygments_lexer": "ipython3",
   "version": "3.8.10"
  }
 },
 "nbformat": 4,
 "nbformat_minor": 5
}
