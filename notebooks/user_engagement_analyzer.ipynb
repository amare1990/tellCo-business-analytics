{
 "cells": [
  {
   "cell_type": "code",
   "execution_count": 1,
   "id": "9566dcb7-bea8-40e3-b213-048bc33e7102",
   "metadata": {},
   "outputs": [],
   "source": [
    "# Getting parent directory of current direc and adding into the system path\n",
    "import os, sys\n",
    "parent_dir = os.path.dirname(os.getcwd())\n",
    "sys.path.insert(0, parent_dir)\n"
   ]
  },
  {
   "cell_type": "code",
   "execution_count": 2,
   "id": "5d2e11ad-0027-4ff4-8ffa-d087709b00b8",
   "metadata": {},
   "outputs": [],
   "source": [
    "import pandas as pd\n",
    "import numpy as np"
   ]
  },
  {
   "cell_type": "code",
   "execution_count": 3,
   "id": "34fd00c1-9ab6-4d0a-9a8a-d005b2b67191",
   "metadata": {},
   "outputs": [],
   "source": [
    "df = pd.read_csv(\"/home/am/Documents/Software Development/10_Academy Training/week2/Data/Copy of Week2_challenge_data_source(CSV).csv\")"
   ]
  },
  {
   "cell_type": "code",
   "execution_count": 4,
   "id": "b025ba52-55fa-4715-b116-e087a6efe196",
   "metadata": {},
   "outputs": [],
   "source": [
    "# Import user enagement module and load data from the postgresql database\n",
    "from scripts.user_engagement_analysis import UserEngagementAnalysis\n",
    "user_engagement = UserEngagementAnalysis()\n"
   ]
  },
  {
   "cell_type": "code",
   "execution_count": 6,
   "id": "37b4c6a5-3318-4f17-b055-1dd3b77fc33b",
   "metadata": {},
   "outputs": [],
   "source": [
    "aggregated_data, top10_custs = user_engagement.aggregate_metrics(df)"
   ]
  },
  {
   "cell_type": "raw",
   "id": "05687623-200e-4944-87bc-66f65c91af26",
   "metadata": {},
   "source": [
    "aggregated_data.shape"
   ]
  },
  {
   "cell_type": "code",
   "execution_count": 7,
   "id": "4d259a70-12dc-4da3-9ee8-80573d80848c",
   "metadata": {},
   "outputs": [
    {
     "data": {
      "text/plain": [
       "{'session_frequency':        MSISDN/Number  session_frequency  session_duration  session_traffic\n",
       " 13526   3.362632e+10              324.0         8791927.0     7.971167e+09\n",
       " 6437    3.361489e+10              289.0         9966898.0     8.846226e+09\n",
       " 13180   3.362578e+10              289.0        18553754.0     8.499621e+09\n",
       " 37052   3.365973e+10              256.0         4035428.0     7.705863e+09\n",
       " 76363   3.367588e+10              225.0         4865947.0     7.891111e+09\n",
       " 92923   3.376054e+10              225.0         9279434.0     8.514774e+09\n",
       " 65118   3.366716e+10              169.0         8744914.0     5.618394e+09\n",
       " 666     3.360313e+10              144.0         6287761.0     4.976195e+09\n",
       " 1279    3.360452e+10              144.0         5207990.0     5.487855e+09\n",
       " 13994   3.362708e+10              144.0         4703516.0     5.754731e+09,\n",
       " 'session_duration':        MSISDN/Number  session_frequency  session_duration  session_traffic\n",
       " 13180   3.362578e+10              289.0        18553754.0     8.499621e+09\n",
       " 6437    3.361489e+10              289.0         9966898.0     8.846226e+09\n",
       " 92923   3.376054e+10              225.0         9279434.0     8.514774e+09\n",
       " 13526   3.362632e+10              324.0         8791927.0     7.971167e+09\n",
       " 65118   3.366716e+10              169.0         8744914.0     5.618394e+09\n",
       " 50281   3.366284e+10               81.0         6614270.0     4.000098e+09\n",
       " 57160   3.366469e+10               81.0         6288730.0     5.682007e+09\n",
       " 666     3.360313e+10              144.0         6287761.0     4.976195e+09\n",
       " 66029   3.366746e+10               36.0         5649882.0     2.600522e+09\n",
       " 92577   3.376041e+10              144.0         5321667.0     7.132371e+09,\n",
       " 'session_traffic':        MSISDN/Number  session_frequency  session_duration  session_traffic\n",
       " 6437    3.361489e+10              289.0         9966898.0     8.846226e+09\n",
       " 92923   3.376054e+10              225.0         9279434.0     8.514774e+09\n",
       " 13180   3.362578e+10              289.0        18553754.0     8.499621e+09\n",
       " 13526   3.362632e+10              324.0         8791927.0     7.971167e+09\n",
       " 76363   3.367588e+10              225.0         4865947.0     7.891111e+09\n",
       " 37052   3.365973e+10              256.0         4035428.0     7.705863e+09\n",
       " 63028   3.366646e+10              121.0         4536757.0     7.308501e+09\n",
       " 92577   3.376041e+10              144.0         5321667.0     7.132371e+09\n",
       " 57241   3.366471e+10              121.0         2927785.0     6.872018e+09\n",
       " 86455   3.369879e+10              121.0         5169128.0     6.540899e+09}"
      ]
     },
     "execution_count": 7,
     "metadata": {},
     "output_type": "execute_result"
    }
   ],
   "source": [
    "top10_custs"
   ]
  },
  {
   "cell_type": "code",
   "execution_count": null,
   "id": "3a17c702-dc3f-44ce-a93b-1786d3955434",
   "metadata": {},
   "outputs": [],
   "source": []
  }
 ],
 "metadata": {
  "kernelspec": {
   "display_name": "Python 3 (ipykernel)",
   "language": "python",
   "name": "python3"
  },
  "language_info": {
   "codemirror_mode": {
    "name": "ipython",
    "version": 3
   },
   "file_extension": ".py",
   "mimetype": "text/x-python",
   "name": "python",
   "nbconvert_exporter": "python",
   "pygments_lexer": "ipython3",
   "version": "3.8.10"
  }
 },
 "nbformat": 4,
 "nbformat_minor": 5
}
