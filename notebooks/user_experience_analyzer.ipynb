{
 "cells": [
  {
   "cell_type": "code",
   "execution_count": 1,
   "id": "5e06e40c-63bf-4ef1-9d31-e769c43b89b6",
   "metadata": {},
   "outputs": [],
   "source": [
    "# Getting parent directory of current direc and adding into the system path\n",
    "import os, sys\n",
    "parent_dir = os.path.dirname(os.getcwd())\n",
    "sys.path.insert(0, parent_dir)"
   ]
  },
  {
   "cell_type": "code",
   "execution_count": 2,
   "id": "66eaff01-3078-4ce8-8e98-198fd84dad70",
   "metadata": {},
   "outputs": [],
   "source": [
    "import pandas as pd\n",
    "import numpy as np"
   ]
  },
  {
   "cell_type": "code",
   "execution_count": 3,
   "id": "12477e5d-5800-4441-ad30-395197c9d904",
   "metadata": {},
   "outputs": [],
   "source": [
    "df = pd.read_csv(\"/home/am/Documents/Software Development/10_Academy Training/week2/Data/Copy of Week2_challenge_data_source(CSV).csv\")"
   ]
  },
  {
   "cell_type": "code",
   "execution_count": 4,
   "id": "e40d1757-1e8c-435f-8c59-891a0c4891d6",
   "metadata": {},
   "outputs": [
    {
     "data": {
      "text/plain": [
       "Index(['Bearer Id', 'Start', 'Start ms', 'End', 'End ms', 'Dur. (ms)', 'IMSI',\n",
       "       'MSISDN/Number', 'IMEI', 'Last Location Name', 'Avg RTT DL (ms)',\n",
       "       'Avg RTT UL (ms)', 'Avg Bearer TP DL (kbps)', 'Avg Bearer TP UL (kbps)',\n",
       "       'TCP DL Retrans. Vol (Bytes)', 'TCP UL Retrans. Vol (Bytes)',\n",
       "       'DL TP < 50 Kbps (%)', '50 Kbps < DL TP < 250 Kbps (%)',\n",
       "       '250 Kbps < DL TP < 1 Mbps (%)', 'DL TP > 1 Mbps (%)',\n",
       "       'UL TP < 10 Kbps (%)', '10 Kbps < UL TP < 50 Kbps (%)',\n",
       "       '50 Kbps < UL TP < 300 Kbps (%)', 'UL TP > 300 Kbps (%)',\n",
       "       'HTTP DL (Bytes)', 'HTTP UL (Bytes)', 'Activity Duration DL (ms)',\n",
       "       'Activity Duration UL (ms)', 'Dur. (ms).1', 'Handset Manufacturer',\n",
       "       'Handset Type', 'Nb of sec with 125000B < Vol DL',\n",
       "       'Nb of sec with 1250B < Vol UL < 6250B',\n",
       "       'Nb of sec with 31250B < Vol DL < 125000B',\n",
       "       'Nb of sec with 37500B < Vol UL',\n",
       "       'Nb of sec with 6250B < Vol DL < 31250B',\n",
       "       'Nb of sec with 6250B < Vol UL < 37500B',\n",
       "       'Nb of sec with Vol DL < 6250B', 'Nb of sec with Vol UL < 1250B',\n",
       "       'Social Media DL (Bytes)', 'Social Media UL (Bytes)',\n",
       "       'Google DL (Bytes)', 'Google UL (Bytes)', 'Email DL (Bytes)',\n",
       "       'Email UL (Bytes)', 'Youtube DL (Bytes)', 'Youtube UL (Bytes)',\n",
       "       'Netflix DL (Bytes)', 'Netflix UL (Bytes)', 'Gaming DL (Bytes)',\n",
       "       'Gaming UL (Bytes)', 'Other DL (Bytes)', 'Other UL (Bytes)',\n",
       "       'Total UL (Bytes)', 'Total DL (Bytes)'],\n",
       "      dtype='object')"
      ]
     },
     "execution_count": 4,
     "metadata": {},
     "output_type": "execute_result"
    }
   ],
   "source": [
    "df.columns"
   ]
  },
  {
   "cell_type": "code",
   "execution_count": 5,
   "id": "134b7285-f60a-42be-b677-a5d9df67c9f9",
   "metadata": {},
   "outputs": [],
   "source": [
    "from scripts.user_experience_analysis import UserExperienceAnalyzer\n",
    "user_experience = UserExperienceAnalyzer(df)"
   ]
  },
  {
   "cell_type": "code",
   "execution_count": 6,
   "id": "b1ac1125-2e31-485c-8ae6-944dc04f6ba3",
   "metadata": {},
   "outputs": [],
   "source": [
    "user_experience_aggregated = user_experience.aggregate_user_experience_data()"
   ]
  },
  {
   "cell_type": "code",
   "execution_count": 7,
   "id": "475a859f-92ae-4033-9680-0ede7b5213f4",
   "metadata": {},
   "outputs": [
    {
     "data": {
      "text/plain": [
       "Index(['MSISDN/Number', 'TCP Retransmission', 'RTT', 'Throughput',\n",
       "       'Handset Type'],\n",
       "      dtype='object')"
      ]
     },
     "execution_count": 7,
     "metadata": {},
     "output_type": "execute_result"
    }
   ],
   "source": [
    "user_experience_aggregated.columns"
   ]
  },
  {
   "cell_type": "code",
   "execution_count": 8,
   "id": "5a804e2e-c293-4e59-886a-81f9ca1a3da7",
   "metadata": {},
   "outputs": [
    {
     "data": {
      "text/plain": [
       "count    1.068560e+05\n",
       "mean     1.934938e+07\n",
       "std      1.001774e+07\n",
       "min      9.700000e+01\n",
       "25%      1.291948e+07\n",
       "50%      2.571697e+07\n",
       "75%      2.571697e+07\n",
       "max      5.620225e+07\n",
       "Name: TCP Retransmission, dtype: float64"
      ]
     },
     "execution_count": 8,
     "metadata": {},
     "output_type": "execute_result"
    }
   ],
   "source": [
    "user_experience_aggregated['TCP Retransmission'].describe()"
   ]
  },
  {
   "cell_type": "code",
   "execution_count": 9,
   "id": "1044ef3a-4e4d-40d8-9bbe-480cca128b7e",
   "metadata": {},
   "outputs": [],
   "source": [
    "# top 10 bottom 10 and mode\n",
    "results = user_experience.compute_top_bottom_frequent()"
   ]
  },
  {
   "cell_type": "code",
   "execution_count": 24,
   "id": "baaa8f1f-2e6b-49ab-9706-073ce7a6089a",
   "metadata": {},
   "outputs": [
    {
     "name": "stdout",
     "output_type": "stream",
     "text": [
      "Stats for TCP Retransmission User Experience Analysis Metrics:\n",
      "\n",
      "top_10: [56142569.0, 56144622.0, 56148826.0, 56164100.0, 56176107.0, 56185212.0, 56195532.0, 56199084.0, 56202254.0, 56212033.0]\n",
      "bottom_10: [86.0, 97.0, 106.0, 108.0, 113.0, 128.0, 129.0, 134.0, 134.0, 143.0]\n",
      "most_frequent: [25716966.336391196, 25716966.336391203, 2660.0, 5320.0, 6650.0, 3990.0, 7980.0, 1873.0, 2648.0, 15960.0]\n",
      "=======================================================================================================================\n",
      "\n",
      "\n",
      "Stats for RTT User Experience Analysis Metrics:\n",
      "\n",
      "top_10: [128.5, 128.5, 128.5, 128.5, 128.5, 128.5, 128.5, 128.5, 128.5, 128.5]\n",
      "bottom_10: [0.0, 0.0, 0.0, 0.0, 1.0, 2.0, 2.0, 2.5, 3.0, 3.0]\n",
      "most_frequent: [63.51244259624594, 63.51244259624592, 14.5, 19.5, 19.0, 20.0, 15.0, 14.0, 24.5, 20.5]\n",
      "=======================================================================================================================\n",
      "\n",
      "\n",
      "Stats for Throughput User Experience Analysis Metrics:\n",
      "\n",
      "top_10: [55708.0, 55713.0, 55715.0, 55718.0, 55721.0, 55724.0, 55726.0, 55731.0, 55732.0, 55732.0]\n",
      "bottom_10: [0.0, 0.0, 0.0, 0.0, 0.0, 0.0, 0.0, 0.0, 0.0, 0.0]\n",
      "most_frequent: [15070.474573333331, 63.0, 15.0, 97.0, 90.0, 98.0, 96.0, 99.0, 89.0, 91.0]\n",
      "=======================================================================================================================\n",
      "\n",
      "\n"
     ]
    }
   ],
   "source": [
    "# Assuming 'results' is a dictionary where each key contains a dictionary with 'top_10', 'bottom_10', 'most_frequent'\n",
    "for key, result in results.items():\n",
    "    print(f\"Stats for {key} User Experience Analysis Metrics:\\n\")\n",
    "    for sub_key, sub_result in result.items():\n",
    "        print(f\"{sub_key}: {sub_result}\")\n",
    "    print(\"=======================================================================================================================\\n\\n\")\n"
   ]
  },
  {
   "cell_type": "code",
   "execution_count": null,
   "id": "0878226a-498b-4a95-a683-79fa5cbcfccf",
   "metadata": {},
   "outputs": [],
   "source": []
  }
 ],
 "metadata": {
  "kernelspec": {
   "display_name": "Python 3 (ipykernel)",
   "language": "python",
   "name": "python3"
  },
  "language_info": {
   "codemirror_mode": {
    "name": "ipython",
    "version": 3
   },
   "file_extension": ".py",
   "mimetype": "text/x-python",
   "name": "python",
   "nbconvert_exporter": "python",
   "pygments_lexer": "ipython3",
   "version": "3.8.10"
  }
 },
 "nbformat": 4,
 "nbformat_minor": 5
}
