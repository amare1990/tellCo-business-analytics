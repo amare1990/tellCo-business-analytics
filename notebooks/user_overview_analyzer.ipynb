{
 "cells": [
  {
   "cell_type": "code",
   "execution_count": 1,
   "id": "94d28429-3efa-49ce-90ce-fc5a6c46c30c",
   "metadata": {},
   "outputs": [],
   "source": [
    "# Get the parent directory and insert into the system path\n",
    "import os, sys\n",
    "parent_dir = os.path.dirname(os.getcwd())\n",
    "sys.path.insert(0, parent_dir)"
   ]
  },
  {
   "cell_type": "code",
   "execution_count": 2,
   "id": "a992a8e1-6d0b-494a-b62c-98682d3f771e",
   "metadata": {},
   "outputs": [],
   "source": [
    "from scripts.user_overview_analysis import user_overview_analyzer\n",
    "user_overview_analyzer = user_overview_analyzer()\n"
   ]
  },
  {
   "cell_type": "code",
   "execution_count": 3,
   "id": "5d6e92a4-1365-4dad-b4f2-58fe90693cae",
   "metadata": {},
   "outputs": [],
   "source": [
    "query = \"SELECT * FROM xdr_data\""
   ]
  },
  {
   "cell_type": "code",
   "execution_count": 4,
   "id": "59101fd8-ae67-4943-89b6-9c78abe77289",
   "metadata": {},
   "outputs": [
    {
     "name": "stderr",
     "output_type": "stream",
     "text": [
      "/home/am/Documents/Software Development/10_Academy Training/week2/tellCo-business-analytics/scripts/user_overview_analysis.py:36: UserWarning: pandas only supports SQLAlchemy connectable (engine/connection) or database string URI or sqlite3 DBAPI2 connection. Other DBAPI2 objects are not tested. Please consider using SQLAlchemy.\n",
      "  df = pd.read_sql_query(query, connection)\n"
     ]
    }
   ],
   "source": [
    "df = user_overview_analyzer.load_data_from_postgres(query)"
   ]
  },
  {
   "cell_type": "code",
   "execution_count": 5,
   "id": "926e245e-5c1f-405f-b613-60b6d31f203d",
   "metadata": {},
   "outputs": [],
   "source": [
    "# df.shape"
   ]
  },
  {
   "cell_type": "code",
   "execution_count": 6,
   "id": "7ed77d00-9f31-4d4c-bc33-31c5a9a3c2d9",
   "metadata": {},
   "outputs": [],
   "source": [
    "# df.head()"
   ]
  },
  {
   "cell_type": "code",
   "execution_count": 7,
   "id": "078faed5-396b-446f-b1ca-14f8f66cb94b",
   "metadata": {},
   "outputs": [],
   "source": [
    "# df.columns"
   ]
  },
  {
   "cell_type": "code",
   "execution_count": 8,
   "id": "227b9623-e2b1-4ba8-9280-5d504db74a8e",
   "metadata": {},
   "outputs": [],
   "source": [
    "user_overview_analysis_dic = user_overview_analyzer.user_overview_analysis()"
   ]
  },
  {
   "cell_type": "code",
   "execution_count": 9,
   "id": "4b7ee9b3-8a0e-45e3-91d6-83f6d6e1e59f",
   "metadata": {
    "scrolled": true
   },
   "outputs": [
    {
     "name": "stdout",
     "output_type": "stream",
     "text": [
      "Top 10 Handsets:\n",
      "                         handset  usage_count\n",
      "0              Huawei B528S-23A        19752\n",
      "1       Apple iPhone 6S (A1688)         9419\n",
      "2        Apple iPhone 6 (A1586)         9023\n",
      "3                     undefined         8987\n",
      "4        Apple iPhone 7 (A1778)         6326\n",
      "5       Apple iPhone Se (A1723)         5187\n",
      "6        Apple iPhone 8 (A1905)         4993\n",
      "7       Apple iPhone Xr (A2105)         4568\n",
      "8  Samsung Galaxy S8 (Sm-G950F)         4520\n",
      "9        Apple iPhone X (A1901)         3813\n",
      "===================================================================================================\n",
      "\n",
      "\n",
      "Top 3 Manufacturers:\n",
      "   manufacturer  usage_count\n",
      "0        Apple        59565\n",
      "1      Samsung        40839\n",
      "2       Huawei        34423\n",
      "===================================================================================================\n",
      "\n",
      "\n",
      "Top 5 Handsets per Manufacturer:\n",
      "    manufacturer                         handset  usage_count\n",
      "0         Apple         Apple iPhone 6S (A1688)         9419\n",
      "1         Apple          Apple iPhone 6 (A1586)         9023\n",
      "2         Apple          Apple iPhone 7 (A1778)         6326\n",
      "3         Apple         Apple iPhone Se (A1723)         5187\n",
      "4         Apple          Apple iPhone 8 (A1905)         4993\n",
      "5        Huawei                Huawei B528S-23A        19752\n",
      "6        Huawei                    Huawei E5180         2079\n",
      "7        Huawei  Huawei P20 Lite Huawei Nova 3E         2021\n",
      "8        Huawei                      Huawei P20         1480\n",
      "9        Huawei                  Huawei Y6 2018          997\n",
      "10      Samsung    Samsung Galaxy S8 (Sm-G950F)         4520\n",
      "11      Samsung      Samsung Galaxy A5 Sm-A520F         3724\n",
      "12      Samsung     Samsung Galaxy J5 (Sm-J530)         3696\n",
      "13      Samsung     Samsung Galaxy J3 (Sm-J330)         3484\n",
      "14      Samsung    Samsung Galaxy S7 (Sm-G930X)         3199\n"
     ]
    }
   ],
   "source": [
    "if user_overview_analysis_dic:\n",
    "    print(\"Top 10 Handsets:\\n\", user_overview_analysis_dic[\"top_10_handsets\"])\n",
    "    print(\"===================================================================================================\\n\")\n",
    "    print(\"\\nTop 3 Manufacturers:\\n\", user_overview_analysis_dic[\"top_3_manufacturers\"])\n",
    "    print(\"===================================================================================================\\n\")\n",
    "    print(\"\\nTop 5 Handsets per Manufacturer:\\n\", user_overview_analysis_dic[\"top_5_per_manufacturer\"])    \n",
    "    "
   ]
  },
  {
   "cell_type": "code",
   "execution_count": 10,
   "id": "35916def-ef09-4236-bedf-6d0bab315b6c",
   "metadata": {},
   "outputs": [
    {
     "name": "stdout",
     "output_type": "stream",
     "text": [
      "An error occurred: Execution failed on sql '\n",
      "            SELECT\n",
      "                \"IMSI\" AS user_id,\n",
      "                CASE\n",
      "                    WHEN \"Social Media DL (Bytes)\" > 0 OR \"Social Media UL (Bytes)\" > 0 THEN 'Social Media'\n",
      "                    WHEN \"Gaming DL (Bytes)\" > 0 OR \"Gaming UL (Bytes)\" > 0 THEN 'Gaming'\n",
      "\n",
      "                    WHEN \"Netflix DL (Bytes)\" > 0 OR \"Netflix UL (Bytes)\" > 0 THEN 'Netflix'\n",
      "                    WHEN \"Google DL (Bytes)\" > 0 OR \"Google UL (Bytes)\" > 0 THEN 'Google'\n",
      "                    ELSE 'Other'\n",
      "                END AS application,\n",
      "                COUNT(\"bearer id\") AS session_count,\n",
      "                SUM(\"Dur. (s)\") AS total_duration,\n",
      "                SUM(\"Total DL (Bytes)\") AS total_download,\n",
      "                SUM(\"Total UL (Bytes)\") AS total_upload,\n",
      "                SUM(\"Total DL (Bytes)\" + \"Total UL (Bytes)\") AS total_data_volume\n",
      "            FROM\n",
      "                xdr_data\n",
      "            GROUP BY\n",
      "                \"IMSI\", application\n",
      "            ': column \"bearer id\" does not exist\n",
      "LINE 12:                 COUNT(\"bearer id\") AS session_count,\n",
      "                               ^\n",
      "HINT:  Perhaps you meant to reference the column \"xdr_data.Bearer Id\".\n",
      "\n",
      "No data available for user behavior analysis.\n"
     ]
    },
    {
     "name": "stderr",
     "output_type": "stream",
     "text": [
      "/home/am/Documents/Software Development/10_Academy Training/week2/tellCo-business-analytics/scripts/user_overview_analysis.py:36: UserWarning: pandas only supports SQLAlchemy connectable (engine/connection) or database string URI or sqlite3 DBAPI2 connection. Other DBAPI2 objects are not tested. Please consider using SQLAlchemy.\n",
      "  df = pd.read_sql_query(query, connection)\n"
     ]
    }
   ],
   "source": [
    "user_behaviour = user_overview_analyzer.user_behavior_analysis()"
   ]
  },
  {
   "cell_type": "code",
   "execution_count": 11,
   "id": "253c256f-0e5e-445a-8483-7b88d5ad25b0",
   "metadata": {},
   "outputs": [
    {
     "ename": "AttributeError",
     "evalue": "'NoneType' object has no attribute 'shape'",
     "output_type": "error",
     "traceback": [
      "\u001b[0;31m---------------------------------------------------------------------------\u001b[0m",
      "\u001b[0;31mAttributeError\u001b[0m                            Traceback (most recent call last)",
      "Cell \u001b[0;32mIn[11], line 1\u001b[0m\n\u001b[0;32m----> 1\u001b[0m \u001b[43muser_behaviour\u001b[49m\u001b[38;5;241;43m.\u001b[39;49m\u001b[43mshape\u001b[49m\n",
      "\u001b[0;31mAttributeError\u001b[0m: 'NoneType' object has no attribute 'shape'"
     ]
    }
   ],
   "source": [
    "user_behaviour.shape"
   ]
  },
  {
   "cell_type": "code",
   "execution_count": null,
   "id": "91726785-4f10-4aab-a64b-2176ec8726de",
   "metadata": {},
   "outputs": [],
   "source": []
  }
 ],
 "metadata": {
  "kernelspec": {
   "display_name": "Python 3 (ipykernel)",
   "language": "python",
   "name": "python3"
  },
  "language_info": {
   "codemirror_mode": {
    "name": "ipython",
    "version": 3
   },
   "file_extension": ".py",
   "mimetype": "text/x-python",
   "name": "python",
   "nbconvert_exporter": "python",
   "pygments_lexer": "ipython3",
   "version": "3.8.10"
  }
 },
 "nbformat": 4,
 "nbformat_minor": 5
}
