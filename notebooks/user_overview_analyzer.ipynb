{
 "cells": [
  {
   "cell_type": "code",
   "execution_count": 1,
   "id": "94d28429-3efa-49ce-90ce-fc5a6c46c30c",
   "metadata": {},
   "outputs": [],
   "source": [
    "# Get the parent directory and insert into the system path\n",
    "import os, sys\n",
    "parent_dir = os.path.dirname(os.getcwd())\n",
    "sys.path.insert(0, parent_dir)"
   ]
  },
  {
   "cell_type": "code",
   "execution_count": 2,
   "id": "a992a8e1-6d0b-494a-b62c-98682d3f771e",
   "metadata": {},
   "outputs": [],
   "source": [
    "from scripts.user_overview_analysis import user_overview_analyzer\n",
    "user_overview_analyzer = user_overview_analyzer()\n"
   ]
  },
  {
   "cell_type": "code",
   "execution_count": 3,
   "id": "5d6e92a4-1365-4dad-b4f2-58fe90693cae",
   "metadata": {},
   "outputs": [],
   "source": [
    "query = \"SELECT * FROM xdr_data\""
   ]
  },
  {
   "cell_type": "code",
   "execution_count": 4,
   "id": "59101fd8-ae67-4943-89b6-9c78abe77289",
   "metadata": {},
   "outputs": [
    {
     "name": "stderr",
     "output_type": "stream",
     "text": [
      "/home/am/Documents/Software Development/10_Academy Training/week2/tellCo-business-analytics/scripts/user_overview_analysis.py:36: UserWarning: pandas only supports SQLAlchemy connectable (engine/connection) or database string URI or sqlite3 DBAPI2 connection. Other DBAPI2 objects are not tested. Please consider using SQLAlchemy.\n",
      "  df = pd.read_sql_query(query, connection)\n"
     ]
    }
   ],
   "source": [
    "df = user_overview_analyzer.load_data_from_postgres(query)"
   ]
  },
  {
   "cell_type": "code",
   "execution_count": 5,
   "id": "926e245e-5c1f-405f-b613-60b6d31f203d",
   "metadata": {},
   "outputs": [],
   "source": [
    "# df.shape"
   ]
  },
  {
   "cell_type": "code",
   "execution_count": 6,
   "id": "7ed77d00-9f31-4d4c-bc33-31c5a9a3c2d9",
   "metadata": {},
   "outputs": [],
   "source": [
    "# df.head()"
   ]
  },
  {
   "cell_type": "code",
   "execution_count": 7,
   "id": "078faed5-396b-446f-b1ca-14f8f66cb94b",
   "metadata": {},
   "outputs": [],
   "source": [
    "# df.columns"
   ]
  },
  {
   "cell_type": "code",
   "execution_count": 9,
   "id": "227b9623-e2b1-4ba8-9280-5d504db74a8e",
   "metadata": {},
   "outputs": [],
   "source": [
    "user_overview_analysis_dic = user_overview_analyzer.user_overview_analysis()"
   ]
  },
  {
   "cell_type": "code",
   "execution_count": 15,
   "id": "4b7ee9b3-8a0e-45e3-91d6-83f6d6e1e59f",
   "metadata": {},
   "outputs": [
    {
     "name": "stdout",
     "output_type": "stream",
     "text": [
      "Top 10 Handsets:\n",
      "                         handset  usage_count\n",
      "0              Huawei B528S-23A        19752\n",
      "1       Apple iPhone 6S (A1688)         9419\n",
      "2        Apple iPhone 6 (A1586)         9023\n",
      "3                     undefined         8987\n",
      "4        Apple iPhone 7 (A1778)         6326\n",
      "5       Apple iPhone Se (A1723)         5187\n",
      "6        Apple iPhone 8 (A1905)         4993\n",
      "7       Apple iPhone Xr (A2105)         4568\n",
      "8  Samsung Galaxy S8 (Sm-G950F)         4520\n",
      "9        Apple iPhone X (A1901)         3813\n",
      "===================================================================================================\n",
      "\n",
      "\n",
      "Top 3 Manufacturers:\n",
      "   manufacturer  usage_count\n",
      "0        Apple        59565\n",
      "1      Samsung        40839\n",
      "2       Huawei        34423\n",
      "===================================================================================================\n",
      "\n",
      "\n",
      "Top 5 Handsets per Manufacturer:\n",
      "     manufacturer                                         handset  usage_count\n",
      "0          Apple                         Apple iPhone 6S (A1688)         9419\n",
      "1          Apple                          Apple iPhone 6 (A1586)         9023\n",
      "2          Apple                          Apple iPhone 7 (A1778)         6326\n",
      "3          Apple                         Apple iPhone Se (A1723)         5187\n",
      "4          Apple                          Apple iPhone 8 (A1905)         4993\n",
      "..           ...                                             ...          ...\n",
      "420      Samsung                                Samsung Gt-I9105            1\n",
      "421      Samsung  Samsung Galaxy J5 Prime Dual-Sim (Sm-G570F Ds)            1\n",
      "422      Samsung                  Samsung Galaxy Tab E (Sm-T561)            1\n",
      "423      Samsung                               Samsung Gt-I9105P            1\n",
      "424      Samsung                Samsung Galaxy Core 2 (Sm-G355X)            1\n",
      "\n",
      "[425 rows x 3 columns]\n"
     ]
    }
   ],
   "source": [
    "if user_overview_analysis_dic:\n",
    "    print(\"Top 10 Handsets:\\n\", user_overview_analysis_dic[\"top_10_handsets\"])\n",
    "    print(\"===================================================================================================\\n\")\n",
    "    print(\"\\nTop 3 Manufacturers:\\n\", user_overview_analysis_dic[\"top_3_manufacturers\"])\n",
    "    print(\"===================================================================================================\\n\")\n",
    "    print(\"\\nTop 5 Handsets per Manufacturer:\\n\", user_overview_analysis_dic[\"top_5_per_manufacturer\"])    \n",
    "    "
   ]
  },
  {
   "cell_type": "code",
   "execution_count": null,
   "id": "35916def-ef09-4236-bedf-6d0bab315b6c",
   "metadata": {},
   "outputs": [],
   "source": []
  }
 ],
 "metadata": {
  "kernelspec": {
   "display_name": "Python 3 (ipykernel)",
   "language": "python",
   "name": "python3"
  },
  "language_info": {
   "codemirror_mode": {
    "name": "ipython",
    "version": 3
   },
   "file_extension": ".py",
   "mimetype": "text/x-python",
   "name": "python",
   "nbconvert_exporter": "python",
   "pygments_lexer": "ipython3",
   "version": "3.8.10"
  }
 },
 "nbformat": 4,
 "nbformat_minor": 5
}
