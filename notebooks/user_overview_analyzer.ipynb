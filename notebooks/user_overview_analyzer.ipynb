{
 "cells": [
  {
   "cell_type": "code",
   "execution_count": 1,
   "id": "94d28429-3efa-49ce-90ce-fc5a6c46c30c",
   "metadata": {},
   "outputs": [],
   "source": [
    "# Get the parent directory and insert into the system path\n",
    "import os, sys\n",
    "parent_dir = os.path.dirname(os.getcwd())\n",
    "sys.path.insert(0, parent_dir)"
   ]
  },
  {
   "cell_type": "code",
   "execution_count": 2,
   "id": "a992a8e1-6d0b-494a-b62c-98682d3f771e",
   "metadata": {},
   "outputs": [
    {
     "ename": "NameError",
     "evalue": "name 'UserOverViewAnalyzer' is not defined",
     "output_type": "error",
     "traceback": [
      "\u001b[0;31m---------------------------------------------------------------------------\u001b[0m",
      "\u001b[0;31mNameError\u001b[0m                                 Traceback (most recent call last)",
      "Cell \u001b[0;32mIn[2], line 2\u001b[0m\n\u001b[1;32m      1\u001b[0m \u001b[38;5;28;01mfrom\u001b[39;00m \u001b[38;5;21;01mscripts\u001b[39;00m\u001b[38;5;21;01m.\u001b[39;00m\u001b[38;5;21;01muser_overview_analysis\u001b[39;00m \u001b[38;5;28;01mimport\u001b[39;00m UserOverviewAnalyzer\n\u001b[0;32m----> 2\u001b[0m user_overview_analyzer \u001b[38;5;241m=\u001b[39m \u001b[43mUserOverViewAnalyzer\u001b[49m()\n",
      "\u001b[0;31mNameError\u001b[0m: name 'UserOverViewAnalyzer' is not defined"
     ]
    }
   ],
   "source": [
    "from scripts.user_overview_analysis import UserOverviewAnalyzer\n",
    "user_overview_analyzer = UserOverViewAnalyzer()\n"
   ]
  },
  {
   "cell_type": "code",
   "execution_count": null,
   "id": "5d6e92a4-1365-4dad-b4f2-58fe90693cae",
   "metadata": {},
   "outputs": [],
   "source": [
    "query = \"SELECT * FROM xdr_data\""
   ]
  },
  {
   "cell_type": "code",
   "execution_count": null,
   "id": "59101fd8-ae67-4943-89b6-9c78abe77289",
   "metadata": {},
   "outputs": [],
   "source": [
    "df = user_overview_analyzer.load_data_from_postgres(query)"
   ]
  },
  {
   "cell_type": "code",
   "execution_count": null,
   "id": "926e245e-5c1f-405f-b613-60b6d31f203d",
   "metadata": {},
   "outputs": [],
   "source": [
    "# df.shape"
   ]
  },
  {
   "cell_type": "code",
   "execution_count": null,
   "id": "7ed77d00-9f31-4d4c-bc33-31c5a9a3c2d9",
   "metadata": {},
   "outputs": [],
   "source": [
    "# df.head()"
   ]
  },
  {
   "cell_type": "code",
   "execution_count": null,
   "id": "078faed5-396b-446f-b1ca-14f8f66cb94b",
   "metadata": {},
   "outputs": [],
   "source": [
    "# df.columns"
   ]
  },
  {
   "cell_type": "code",
   "execution_count": null,
   "id": "227b9623-e2b1-4ba8-9280-5d504db74a8e",
   "metadata": {},
   "outputs": [],
   "source": [
    "user_overview_analysis_dic = user_overview_analyzer.user_overview_analysis()"
   ]
  },
  {
   "cell_type": "code",
   "execution_count": null,
   "id": "4b7ee9b3-8a0e-45e3-91d6-83f6d6e1e59f",
   "metadata": {
    "scrolled": true
   },
   "outputs": [],
   "source": [
    "if user_overview_analysis_dic:\n",
    "    print(\"Top 10 Handsets:\\n\", user_overview_analysis_dic[\"top_10_handsets\"])\n",
    "    print(\"===================================================================================================\\n\")\n",
    "    print(\"\\nTop 3 Manufacturers:\\n\", user_overview_analysis_dic[\"top_3_manufacturers\"])\n",
    "    print(\"===================================================================================================\\n\")\n",
    "    print(\"\\nTop 5 Handsets per Manufacturer:\\n\", user_overview_analysis_dic[\"top_5_per_manufacturer\"])    \n",
    "    "
   ]
  },
  {
   "cell_type": "code",
   "execution_count": null,
   "id": "35916def-ef09-4236-bedf-6d0bab315b6c",
   "metadata": {},
   "outputs": [],
   "source": [
    "user_behaviour = user_overview_analyzer.user_behavior_analysis()"
   ]
  },
  {
   "cell_type": "code",
   "execution_count": null,
   "id": "253c256f-0e5e-445a-8483-7b88d5ad25b0",
   "metadata": {},
   "outputs": [],
   "source": [
    "user_behaviour.shape"
   ]
  },
  {
   "cell_type": "code",
   "execution_count": null,
   "id": "91726785-4f10-4aab-a64b-2176ec8726de",
   "metadata": {},
   "outputs": [],
   "source": []
  }
 ],
 "metadata": {
  "kernelspec": {
   "display_name": "Python 3 (ipykernel)",
   "language": "python",
   "name": "python3"
  },
  "language_info": {
   "codemirror_mode": {
    "name": "ipython",
    "version": 3
   },
   "file_extension": ".py",
   "mimetype": "text/x-python",
   "name": "python",
   "nbconvert_exporter": "python",
   "pygments_lexer": "ipython3",
   "version": "3.8.10"
  }
 },
 "nbformat": 4,
 "nbformat_minor": 5
}
