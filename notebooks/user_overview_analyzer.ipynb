{
 "cells": [
  {
   "cell_type": "code",
   "execution_count": 1,
   "id": "94d28429-3efa-49ce-90ce-fc5a6c46c30c",
   "metadata": {},
   "outputs": [],
   "source": [
    "# Get the parent directory and insert into the system path\n",
    "import os, sys\n",
    "parent_dir = os.path.dirname(os.getcwd())\n",
    "sys.path.insert(0, parent_dir)"
   ]
  },
  {
   "cell_type": "code",
   "execution_count": 2,
   "id": "a992a8e1-6d0b-494a-b62c-98682d3f771e",
   "metadata": {},
   "outputs": [],
   "source": [
    "from scripts.user_overview_analysis import UserOverviewAnalyzer\n",
    "user_overview_analyzer = UserOverviewAnalyzer()\n"
   ]
  },
  {
   "cell_type": "code",
   "execution_count": 3,
   "id": "5d6e92a4-1365-4dad-b4f2-58fe90693cae",
   "metadata": {},
   "outputs": [],
   "source": [
    "query = \"SELECT * FROM xdr_data\""
   ]
  },
  {
   "cell_type": "code",
   "execution_count": 4,
   "id": "59101fd8-ae67-4943-89b6-9c78abe77289",
   "metadata": {},
   "outputs": [],
   "source": [
    "df = user_overview_analyzer.load_data_from_postgres(query)"
   ]
  },
  {
   "cell_type": "code",
   "execution_count": 5,
   "id": "926e245e-5c1f-405f-b613-60b6d31f203d",
   "metadata": {},
   "outputs": [
    {
     "data": {
      "text/plain": [
       "(150001, 55)"
      ]
     },
     "execution_count": 5,
     "metadata": {},
     "output_type": "execute_result"
    }
   ],
   "source": [
    "df.shape"
   ]
  },
  {
   "cell_type": "code",
   "execution_count": 6,
   "id": "7ed77d00-9f31-4d4c-bc33-31c5a9a3c2d9",
   "metadata": {
    "scrolled": true
   },
   "outputs": [
    {
     "data": {
      "text/html": [
       "<div>\n",
       "<style scoped>\n",
       "    .dataframe tbody tr th:only-of-type {\n",
       "        vertical-align: middle;\n",
       "    }\n",
       "\n",
       "    .dataframe tbody tr th {\n",
       "        vertical-align: top;\n",
       "    }\n",
       "\n",
       "    .dataframe thead th {\n",
       "        text-align: right;\n",
       "    }\n",
       "</style>\n",
       "<table border=\"1\" class=\"dataframe\">\n",
       "  <thead>\n",
       "    <tr style=\"text-align: right;\">\n",
       "      <th></th>\n",
       "      <th>Bearer Id</th>\n",
       "      <th>Start</th>\n",
       "      <th>Start ms</th>\n",
       "      <th>End</th>\n",
       "      <th>End ms</th>\n",
       "      <th>Dur. (ms)</th>\n",
       "      <th>IMSI</th>\n",
       "      <th>MSISDN/Number</th>\n",
       "      <th>IMEI</th>\n",
       "      <th>Last Location Name</th>\n",
       "      <th>...</th>\n",
       "      <th>Youtube DL (Bytes)</th>\n",
       "      <th>Youtube UL (Bytes)</th>\n",
       "      <th>Netflix DL (Bytes)</th>\n",
       "      <th>Netflix UL (Bytes)</th>\n",
       "      <th>Gaming DL (Bytes)</th>\n",
       "      <th>Gaming UL (Bytes)</th>\n",
       "      <th>Other DL (Bytes)</th>\n",
       "      <th>Other UL (Bytes)</th>\n",
       "      <th>Total UL (Bytes)</th>\n",
       "      <th>Total DL (Bytes)</th>\n",
       "    </tr>\n",
       "  </thead>\n",
       "  <tbody>\n",
       "    <tr>\n",
       "      <th>0</th>\n",
       "      <td>1.311448e+19</td>\n",
       "      <td>4/4/2019 12:01</td>\n",
       "      <td>770.0</td>\n",
       "      <td>4/25/2019 14:35</td>\n",
       "      <td>662.0</td>\n",
       "      <td>1823652.0</td>\n",
       "      <td>2.082014e+14</td>\n",
       "      <td>3.366496e+10</td>\n",
       "      <td>3.552121e+13</td>\n",
       "      <td>9.16456699548519E+015</td>\n",
       "      <td>...</td>\n",
       "      <td>15854611.0</td>\n",
       "      <td>2501332.0</td>\n",
       "      <td>8198936.0</td>\n",
       "      <td>9656251.0</td>\n",
       "      <td>278082303.0</td>\n",
       "      <td>14344150.0</td>\n",
       "      <td>171744450.0</td>\n",
       "      <td>8814393.0</td>\n",
       "      <td>36749741.0</td>\n",
       "      <td>308879636.0</td>\n",
       "    </tr>\n",
       "    <tr>\n",
       "      <th>1</th>\n",
       "      <td>1.311448e+19</td>\n",
       "      <td>4/9/2019 13:04</td>\n",
       "      <td>235.0</td>\n",
       "      <td>4/25/2019 8:15</td>\n",
       "      <td>606.0</td>\n",
       "      <td>1365104.0</td>\n",
       "      <td>2.082019e+14</td>\n",
       "      <td>3.368185e+10</td>\n",
       "      <td>3.579401e+13</td>\n",
       "      <td>L77566A</td>\n",
       "      <td>...</td>\n",
       "      <td>20247395.0</td>\n",
       "      <td>19111729.0</td>\n",
       "      <td>18338413.0</td>\n",
       "      <td>17227132.0</td>\n",
       "      <td>608750074.0</td>\n",
       "      <td>1170709.0</td>\n",
       "      <td>526904238.0</td>\n",
       "      <td>15055145.0</td>\n",
       "      <td>53800391.0</td>\n",
       "      <td>653384965.0</td>\n",
       "    </tr>\n",
       "    <tr>\n",
       "      <th>2</th>\n",
       "      <td>1.311448e+19</td>\n",
       "      <td>4/9/2019 17:42</td>\n",
       "      <td>1.0</td>\n",
       "      <td>4/25/2019 11:58</td>\n",
       "      <td>652.0</td>\n",
       "      <td>1361762.0</td>\n",
       "      <td>2.082003e+14</td>\n",
       "      <td>3.376063e+10</td>\n",
       "      <td>3.528151e+13</td>\n",
       "      <td>D42335A</td>\n",
       "      <td>...</td>\n",
       "      <td>19725661.0</td>\n",
       "      <td>14699576.0</td>\n",
       "      <td>17587794.0</td>\n",
       "      <td>6163408.0</td>\n",
       "      <td>229584621.0</td>\n",
       "      <td>395630.0</td>\n",
       "      <td>410692588.0</td>\n",
       "      <td>4215763.0</td>\n",
       "      <td>27883638.0</td>\n",
       "      <td>279807335.0</td>\n",
       "    </tr>\n",
       "    <tr>\n",
       "      <th>3</th>\n",
       "      <td>1.311448e+19</td>\n",
       "      <td>4/10/2019 0:31</td>\n",
       "      <td>486.0</td>\n",
       "      <td>4/25/2019 7:36</td>\n",
       "      <td>171.0</td>\n",
       "      <td>1321509.0</td>\n",
       "      <td>2.082014e+14</td>\n",
       "      <td>3.375034e+10</td>\n",
       "      <td>3.535661e+13</td>\n",
       "      <td>T21824A</td>\n",
       "      <td>...</td>\n",
       "      <td>21388122.0</td>\n",
       "      <td>15146643.0</td>\n",
       "      <td>13994646.0</td>\n",
       "      <td>1097942.0</td>\n",
       "      <td>799538153.0</td>\n",
       "      <td>10849722.0</td>\n",
       "      <td>749039933.0</td>\n",
       "      <td>12797283.0</td>\n",
       "      <td>43324218.0</td>\n",
       "      <td>846028530.0</td>\n",
       "    </tr>\n",
       "    <tr>\n",
       "      <th>4</th>\n",
       "      <td>1.311448e+19</td>\n",
       "      <td>4/12/2019 20:10</td>\n",
       "      <td>565.0</td>\n",
       "      <td>4/25/2019 10:40</td>\n",
       "      <td>954.0</td>\n",
       "      <td>1089009.0</td>\n",
       "      <td>2.082014e+14</td>\n",
       "      <td>3.369980e+10</td>\n",
       "      <td>3.540701e+13</td>\n",
       "      <td>D88865A</td>\n",
       "      <td>...</td>\n",
       "      <td>15259380.0</td>\n",
       "      <td>18962873.0</td>\n",
       "      <td>17124581.0</td>\n",
       "      <td>415218.0</td>\n",
       "      <td>527707248.0</td>\n",
       "      <td>3529801.0</td>\n",
       "      <td>550709500.0</td>\n",
       "      <td>13910322.0</td>\n",
       "      <td>38542814.0</td>\n",
       "      <td>569138589.0</td>\n",
       "    </tr>\n",
       "  </tbody>\n",
       "</table>\n",
       "<p>5 rows × 55 columns</p>\n",
       "</div>"
      ],
      "text/plain": [
       "      Bearer Id            Start  Start ms              End  End ms  \\\n",
       "0  1.311448e+19   4/4/2019 12:01     770.0  4/25/2019 14:35   662.0   \n",
       "1  1.311448e+19   4/9/2019 13:04     235.0   4/25/2019 8:15   606.0   \n",
       "2  1.311448e+19   4/9/2019 17:42       1.0  4/25/2019 11:58   652.0   \n",
       "3  1.311448e+19   4/10/2019 0:31     486.0   4/25/2019 7:36   171.0   \n",
       "4  1.311448e+19  4/12/2019 20:10     565.0  4/25/2019 10:40   954.0   \n",
       "\n",
       "   Dur. (ms)          IMSI  MSISDN/Number          IMEI  \\\n",
       "0  1823652.0  2.082014e+14   3.366496e+10  3.552121e+13   \n",
       "1  1365104.0  2.082019e+14   3.368185e+10  3.579401e+13   \n",
       "2  1361762.0  2.082003e+14   3.376063e+10  3.528151e+13   \n",
       "3  1321509.0  2.082014e+14   3.375034e+10  3.535661e+13   \n",
       "4  1089009.0  2.082014e+14   3.369980e+10  3.540701e+13   \n",
       "\n",
       "      Last Location Name  ...  Youtube DL (Bytes)  Youtube UL (Bytes)  \\\n",
       "0  9.16456699548519E+015  ...          15854611.0           2501332.0   \n",
       "1                L77566A  ...          20247395.0          19111729.0   \n",
       "2                D42335A  ...          19725661.0          14699576.0   \n",
       "3                T21824A  ...          21388122.0          15146643.0   \n",
       "4                D88865A  ...          15259380.0          18962873.0   \n",
       "\n",
       "   Netflix DL (Bytes)  Netflix UL (Bytes)  Gaming DL (Bytes)  \\\n",
       "0           8198936.0           9656251.0        278082303.0   \n",
       "1          18338413.0          17227132.0        608750074.0   \n",
       "2          17587794.0           6163408.0        229584621.0   \n",
       "3          13994646.0           1097942.0        799538153.0   \n",
       "4          17124581.0            415218.0        527707248.0   \n",
       "\n",
       "   Gaming UL (Bytes)  Other DL (Bytes)  Other UL (Bytes)  Total UL (Bytes)  \\\n",
       "0         14344150.0       171744450.0         8814393.0        36749741.0   \n",
       "1          1170709.0       526904238.0        15055145.0        53800391.0   \n",
       "2           395630.0       410692588.0         4215763.0        27883638.0   \n",
       "3         10849722.0       749039933.0        12797283.0        43324218.0   \n",
       "4          3529801.0       550709500.0        13910322.0        38542814.0   \n",
       "\n",
       "   Total DL (Bytes)  \n",
       "0       308879636.0  \n",
       "1       653384965.0  \n",
       "2       279807335.0  \n",
       "3       846028530.0  \n",
       "4       569138589.0  \n",
       "\n",
       "[5 rows x 55 columns]"
      ]
     },
     "execution_count": 6,
     "metadata": {},
     "output_type": "execute_result"
    }
   ],
   "source": [
    "df.head()"
   ]
  },
  {
   "cell_type": "code",
   "execution_count": 7,
   "id": "078faed5-396b-446f-b1ca-14f8f66cb94b",
   "metadata": {},
   "outputs": [
    {
     "data": {
      "text/plain": [
       "Index(['Bearer Id', 'Start', 'Start ms', 'End', 'End ms', 'Dur. (ms)', 'IMSI',\n",
       "       'MSISDN/Number', 'IMEI', 'Last Location Name', 'Avg RTT DL (ms)',\n",
       "       'Avg RTT UL (ms)', 'Avg Bearer TP DL (kbps)', 'Avg Bearer TP UL (kbps)',\n",
       "       'TCP DL Retrans. Vol (Bytes)', 'TCP UL Retrans. Vol (Bytes)',\n",
       "       'DL TP < 50 Kbps (%)', '50 Kbps < DL TP < 250 Kbps (%)',\n",
       "       '250 Kbps < DL TP < 1 Mbps (%)', 'DL TP > 1 Mbps (%)',\n",
       "       'UL TP < 10 Kbps (%)', '10 Kbps < UL TP < 50 Kbps (%)',\n",
       "       '50 Kbps < UL TP < 300 Kbps (%)', 'UL TP > 300 Kbps (%)',\n",
       "       'HTTP DL (Bytes)', 'HTTP UL (Bytes)', 'Activity Duration DL (ms)',\n",
       "       'Activity Duration UL (ms)', 'Dur. (ms).1', 'Handset Manufacturer',\n",
       "       'Handset Type', 'Nb of sec with 125000B < Vol DL',\n",
       "       'Nb of sec with 1250B < Vol UL < 6250B',\n",
       "       'Nb of sec with 31250B < Vol DL < 125000B',\n",
       "       'Nb of sec with 37500B < Vol UL',\n",
       "       'Nb of sec with 6250B < Vol DL < 31250B',\n",
       "       'Nb of sec with 6250B < Vol UL < 37500B',\n",
       "       'Nb of sec with Vol DL < 6250B', 'Nb of sec with Vol UL < 1250B',\n",
       "       'Social Media DL (Bytes)', 'Social Media UL (Bytes)',\n",
       "       'Google DL (Bytes)', 'Google UL (Bytes)', 'Email DL (Bytes)',\n",
       "       'Email UL (Bytes)', 'Youtube DL (Bytes)', 'Youtube UL (Bytes)',\n",
       "       'Netflix DL (Bytes)', 'Netflix UL (Bytes)', 'Gaming DL (Bytes)',\n",
       "       'Gaming UL (Bytes)', 'Other DL (Bytes)', 'Other UL (Bytes)',\n",
       "       'Total UL (Bytes)', 'Total DL (Bytes)'],\n",
       "      dtype='object')"
      ]
     },
     "execution_count": 7,
     "metadata": {},
     "output_type": "execute_result"
    }
   ],
   "source": [
    "df.columns"
   ]
  },
  {
   "cell_type": "code",
   "execution_count": 8,
   "id": "227b9623-e2b1-4ba8-9280-5d504db74a8e",
   "metadata": {},
   "outputs": [],
   "source": [
    "user_overview_analysis_dic = user_overview_analyzer.user_overview_analysis()"
   ]
  },
  {
   "cell_type": "code",
   "execution_count": 9,
   "id": "4b7ee9b3-8a0e-45e3-91d6-83f6d6e1e59f",
   "metadata": {
    "scrolled": true
   },
   "outputs": [
    {
     "name": "stdout",
     "output_type": "stream",
     "text": [
      "Top 10 Handsets:\n",
      "                         handset  usage_count\n",
      "0              Huawei B528S-23A        19752\n",
      "1       Apple iPhone 6S (A1688)         9419\n",
      "2        Apple iPhone 6 (A1586)         9023\n",
      "3                     undefined         8987\n",
      "4        Apple iPhone 7 (A1778)         6326\n",
      "5       Apple iPhone Se (A1723)         5187\n",
      "6        Apple iPhone 8 (A1905)         4993\n",
      "7       Apple iPhone Xr (A2105)         4568\n",
      "8  Samsung Galaxy S8 (Sm-G950F)         4520\n",
      "9        Apple iPhone X (A1901)         3813\n",
      "===================================================================================================\n",
      "\n",
      "\n",
      "Top 3 Manufacturers:\n",
      "   manufacturer  usage_count\n",
      "0        Apple        59565\n",
      "1      Samsung        40839\n",
      "2       Huawei        34423\n",
      "===================================================================================================\n",
      "\n",
      "\n",
      "Top 5 Handsets per Manufacturer:\n",
      "    manufacturer                         handset  usage_count\n",
      "0         Apple         Apple iPhone 6S (A1688)         9419\n",
      "1         Apple          Apple iPhone 6 (A1586)         9023\n",
      "2         Apple          Apple iPhone 7 (A1778)         6326\n",
      "3         Apple         Apple iPhone Se (A1723)         5187\n",
      "4         Apple          Apple iPhone 8 (A1905)         4993\n",
      "5        Huawei                Huawei B528S-23A        19752\n",
      "6        Huawei                    Huawei E5180         2079\n",
      "7        Huawei  Huawei P20 Lite Huawei Nova 3E         2021\n",
      "8        Huawei                      Huawei P20         1480\n",
      "9        Huawei                  Huawei Y6 2018          997\n",
      "10      Samsung    Samsung Galaxy S8 (Sm-G950F)         4520\n",
      "11      Samsung      Samsung Galaxy A5 Sm-A520F         3724\n",
      "12      Samsung     Samsung Galaxy J5 (Sm-J530)         3696\n",
      "13      Samsung     Samsung Galaxy J3 (Sm-J330)         3484\n",
      "14      Samsung    Samsung Galaxy S7 (Sm-G930X)         3199\n"
     ]
    }
   ],
   "source": [
    "if user_overview_analysis_dic:\n",
    "    print(\"Top 10 Handsets:\\n\", user_overview_analysis_dic[\"top_10_handsets\"])\n",
    "    print(\"===================================================================================================\\n\")\n",
    "    print(\"\\nTop 3 Manufacturers:\\n\", user_overview_analysis_dic[\"top_3_manufacturers\"])\n",
    "    print(\"===================================================================================================\\n\")\n",
    "    print(\"\\nTop 5 Handsets per Manufacturer:\\n\", user_overview_analysis_dic[\"top_5_per_manufacturer\"])    \n",
    "    "
   ]
  },
  {
   "cell_type": "code",
   "execution_count": 10,
   "id": "35916def-ef09-4236-bedf-6d0bab315b6c",
   "metadata": {},
   "outputs": [
    {
     "name": "stdout",
     "output_type": "stream",
     "text": [
      "User Behavior Analysis:\n",
      "             user_id  num_sessions  total_duration  total_download  \\\n",
      "0       2.040471e+14             1        869844.0      78697597.0   \n",
      "1       2.040808e+14             1        877385.0     194828056.0   \n",
      "2       2.082001e+14             1         86019.0      31376981.0   \n",
      "3       2.082001e+14             1         86254.0     392918313.0   \n",
      "4       2.082001e+14             2        573923.0     961767023.0   \n",
      "...              ...           ...             ...             ...   \n",
      "107260  2.082099e+14             1        127367.0     688815403.0   \n",
      "107261  2.082099e+14             1        168543.0     451173021.0   \n",
      "107262  2.082099e+14             1         86399.0     307825104.0   \n",
      "107263  2.082522e+14             1         56613.0     800629358.0   \n",
      "107264  2.140743e+14             1        226790.0     637123579.0   \n",
      "\n",
      "        total_upload  total_data_volume  \n",
      "0         60456049.0       1.391536e+08  \n",
      "1         37295915.0       2.321240e+08  \n",
      "2         53794658.0       8.517164e+07  \n",
      "3         33583272.0       4.265016e+08  \n",
      "4         71325004.0       1.033092e+09  \n",
      "...              ...                ...  \n",
      "107260    33888182.0       7.227036e+08  \n",
      "107261    44692550.0       4.958656e+08  \n",
      "107262    30355487.0       3.381806e+08  \n",
      "107263    45083854.0       8.457132e+08  \n",
      "107264    57382080.0       6.945057e+08  \n",
      "\n",
      "[107265 rows x 6 columns]\n"
     ]
    }
   ],
   "source": [
    "user_behaviour = user_overview_analyzer.user_behavior_analysis()"
   ]
  },
  {
   "cell_type": "code",
   "execution_count": 11,
   "id": "253c256f-0e5e-445a-8483-7b88d5ad25b0",
   "metadata": {},
   "outputs": [
    {
     "data": {
      "text/plain": [
       "(107265, 6)"
      ]
     },
     "execution_count": 11,
     "metadata": {},
     "output_type": "execute_result"
    }
   ],
   "source": [
    "user_behaviour.shape"
   ]
  },
  {
   "cell_type": "code",
   "execution_count": null,
   "id": "ff10759a-8967-4017-892b-8d3e6979be6a",
   "metadata": {},
   "outputs": [],
   "source": []
  },
  {
   "cell_type": "code",
   "execution_count": null,
   "id": "9ba66da7-e2f9-46cd-b274-902fbb6580ed",
   "metadata": {},
   "outputs": [],
   "source": []
  }
 ],
 "metadata": {
  "kernelspec": {
   "display_name": "Python 3 (ipykernel)",
   "language": "python",
   "name": "python3"
  },
  "language_info": {
   "codemirror_mode": {
    "name": "ipython",
    "version": 3
   },
   "file_extension": ".py",
   "mimetype": "text/x-python",
   "name": "python",
   "nbconvert_exporter": "python",
   "pygments_lexer": "ipython3",
   "version": "3.8.10"
  }
 },
 "nbformat": 4,
 "nbformat_minor": 5
}
