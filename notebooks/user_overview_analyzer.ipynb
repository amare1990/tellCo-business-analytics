{
 "cells": [
  {
   "cell_type": "code",
   "execution_count": 9,
   "id": "94d28429-3efa-49ce-90ce-fc5a6c46c30c",
   "metadata": {},
   "outputs": [],
   "source": [
    "# Get the parent directory and insert into the system path\n",
    "import os, sys\n",
    "parent_dir = os.path.dirname(os.getcwd())\n",
    "sys.path.insert(0, parent_dir)"
   ]
  },
  {
   "cell_type": "code",
   "execution_count": 10,
   "id": "a992a8e1-6d0b-494a-b62c-98682d3f771e",
   "metadata": {},
   "outputs": [],
   "source": [
    "from scripts.user_overview_analysis import user_overview_analyzer\n",
    "user_overview_analyzer = user_overview_analyzer\n"
   ]
  },
  {
   "cell_type": "code",
   "execution_count": 11,
   "id": "5d6e92a4-1365-4dad-b4f2-58fe90693cae",
   "metadata": {},
   "outputs": [],
   "source": [
    "query = \"SELECT * FROM xdr_data\""
   ]
  },
  {
   "cell_type": "code",
   "execution_count": 12,
   "id": "59101fd8-ae67-4943-89b6-9c78abe77289",
   "metadata": {},
   "outputs": [
    {
     "ename": "TypeError",
     "evalue": "load_data_from_postgres() missing 1 required positional argument: 'query'",
     "output_type": "error",
     "traceback": [
      "\u001b[0;31m---------------------------------------------------------------------------\u001b[0m",
      "\u001b[0;31mTypeError\u001b[0m                                 Traceback (most recent call last)",
      "Cell \u001b[0;32mIn[12], line 1\u001b[0m\n\u001b[0;32m----> 1\u001b[0m df \u001b[38;5;241m=\u001b[39m \u001b[43muser_overview_analyzer\u001b[49m\u001b[38;5;241;43m.\u001b[39;49m\u001b[43mload_data_from_postgres\u001b[49m\u001b[43m(\u001b[49m\u001b[43mquery\u001b[49m\u001b[43m)\u001b[49m\n",
      "\u001b[0;31mTypeError\u001b[0m: load_data_from_postgres() missing 1 required positional argument: 'query'"
     ]
    }
   ],
   "source": [
    "df = user_overview_analyzer.load_data_from_postgres(query)"
   ]
  },
  {
   "cell_type": "code",
   "execution_count": null,
   "id": "926e245e-5c1f-405f-b613-60b6d31f203d",
   "metadata": {},
   "outputs": [],
   "source": [
    "df.shape"
   ]
  },
  {
   "cell_type": "code",
   "execution_count": null,
   "id": "7ed77d00-9f31-4d4c-bc33-31c5a9a3c2d9",
   "metadata": {},
   "outputs": [],
   "source": [
    "df.head()"
   ]
  },
  {
   "cell_type": "code",
   "execution_count": null,
   "id": "227b9623-e2b1-4ba8-9280-5d504db74a8e",
   "metadata": {},
   "outputs": [],
   "source": []
  }
 ],
 "metadata": {
  "kernelspec": {
   "display_name": "Python 3 (ipykernel)",
   "language": "python",
   "name": "python3"
  },
  "language_info": {
   "codemirror_mode": {
    "name": "ipython",
    "version": 3
   },
   "file_extension": ".py",
   "mimetype": "text/x-python",
   "name": "python",
   "nbconvert_exporter": "python",
   "pygments_lexer": "ipython3",
   "version": "3.8.10"
  }
 },
 "nbformat": 4,
 "nbformat_minor": 5
}
