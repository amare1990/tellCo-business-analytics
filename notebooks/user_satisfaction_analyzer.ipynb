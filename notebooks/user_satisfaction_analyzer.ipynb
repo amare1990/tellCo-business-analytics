{
 "cells": [
  {
   "cell_type": "code",
   "execution_count": 1,
   "id": "80014d84-0f8d-4305-893c-f5df964334f1",
   "metadata": {},
   "outputs": [],
   "source": [
    "# Getting parent directory of current direc and adding into the system path\n",
    "import os, sys\n",
    "parent_dir = os.path.dirname(os.getcwd())\n",
    "sys.path.insert(0, parent_dir)"
   ]
  },
  {
   "cell_type": "code",
   "execution_count": 2,
   "id": "01d687ef-46d9-4a7b-9903-896a80e8ca61",
   "metadata": {},
   "outputs": [],
   "source": [
    "import pandas as pd\n",
    "import numpy as np"
   ]
  },
  {
   "cell_type": "code",
   "execution_count": 3,
   "id": "ad6f3638-d4b1-40eb-8563-c2fd96504d0f",
   "metadata": {},
   "outputs": [],
   "source": [
    "df = pd.read_csv(\"/home/am/Documents/Software Development/10_Academy Training/week2/Data/Copy of Week2_challenge_data_source(CSV).csv\")"
   ]
  },
  {
   "cell_type": "code",
   "execution_count": 4,
   "id": "7f112838-645b-4659-b2ac-6002a1f7cba8",
   "metadata": {},
   "outputs": [],
   "source": [
    "numeric_columns = df.select_dtypes(include=['float64', 'int64'])"
   ]
  },
  {
   "cell_type": "code",
   "execution_count": 5,
   "id": "1d669de5-1852-4a23-910f-3aa0cbdf6de1",
   "metadata": {},
   "outputs": [],
   "source": [
    "# df.columns"
   ]
  },
  {
   "cell_type": "code",
   "execution_count": null,
   "id": "c134eb32-354c-4e0c-befe-4b655b49c49d",
   "metadata": {
    "scrolled": true
   },
   "outputs": [],
   "source": [
    "from scripts.user_satisfaction_analysis import UserSatisfactionAnalyzer\n",
    "user_satisfaction = UserSatisfactionAnalyzer(df)"
   ]
  },
  {
   "cell_type": "code",
   "execution_count": null,
   "id": "e3cddd79-db46-47d7-b300-d5aac9e4a166",
   "metadata": {},
   "outputs": [],
   "source": [
    "normalized_data, kmeans, clusters = user_satisfaction.normalize_and_cluster(df)"
   ]
  },
  {
   "cell_type": "code",
   "execution_count": null,
   "id": "707fc536-ee0d-43af-8dc2-8c0962b12d33",
   "metadata": {},
   "outputs": [],
   "source": [
    "clusters"
   ]
  },
  {
   "cell_type": "code",
   "execution_count": null,
   "id": "26028afb-f183-447e-8256-660a5692c86e",
   "metadata": {},
   "outputs": [],
   "source": [
    "engagement_scores = user_satisfaction.assign_engagement_score()"
   ]
  },
  {
   "cell_type": "code",
   "execution_count": null,
   "id": "43a5e5f2-306e-40af-bf10-d9def5332f96",
   "metadata": {},
   "outputs": [],
   "source": [
    "engagement_scores"
   ]
  },
  {
   "cell_type": "code",
   "execution_count": null,
   "id": "250a2848-d379-4bd0-8b0c-7a7d88555dda",
   "metadata": {},
   "outputs": [],
   "source": [
    "experience_score = user_satisfaction.assign_experience_score()"
   ]
  },
  {
   "cell_type": "code",
   "execution_count": null,
   "id": "bd6bb578-e992-47a5-9d84-60783e8bb7ba",
   "metadata": {},
   "outputs": [],
   "source": [
    "experience_score"
   ]
  },
  {
   "cell_type": "code",
   "execution_count": null,
   "id": "421107d5-3c82-4c7f-9888-5862ef66c516",
   "metadata": {},
   "outputs": [],
   "source": [
    "merged_data, satisfaction_df, top10_customers = user_satisfaction.analyze_user_satisfaction()"
   ]
  },
  {
   "cell_type": "code",
   "execution_count": null,
   "id": "530352f1-080a-4e95-b83e-dcb71f2d0a09",
   "metadata": {},
   "outputs": [],
   "source": [
    "top10_customers"
   ]
  },
  {
   "cell_type": "code",
   "execution_count": null,
   "id": "b7198667-613f-48fc-8457-10a3eed6c206",
   "metadata": {},
   "outputs": [],
   "source": [
    "model_regression = user_satisfaction.train_regression_model()"
   ]
  },
  {
   "cell_type": "code",
   "execution_count": null,
   "id": "a6c5ef08-a438-42bf-8bc9-d03c99e42add",
   "metadata": {},
   "outputs": [],
   "source": [
    "cluster_df = user_satisfaction.kmeans_clustering()"
   ]
  },
  {
   "cell_type": "code",
   "execution_count": null,
   "id": "2ccfd1ed-9de0-4716-93e7-750f9e7e6466",
   "metadata": {},
   "outputs": [],
   "source": [
    "cluster_df"
   ]
  },
  {
   "cell_type": "code",
   "execution_count": null,
   "id": "b0e30ed5-feed-4b79-b6ab-d2cd577a26c7",
   "metadata": {},
   "outputs": [],
   "source": [
    "from sqlalchemy.ext.declarative import declarative_base"
   ]
  },
  {
   "cell_type": "code",
   "execution_count": null,
   "id": "824df19d-e47d-423b-92dd-fe09b2637ff8",
   "metadata": {},
   "outputs": [],
   "source": [
    "Base = declarative_base()"
   ]
  },
  {
   "cell_type": "code",
   "execution_count": null,
   "id": "b98b46e1-5718-4acb-bf5e-1468ccff6f1b",
   "metadata": {},
   "outputs": [],
   "source": [
    "from scripts.user_satisfaction_analysis import UserSatisfaction\n",
    "user_satisfaction_database = UserSatisfaction(\"MSISDN/Number\", \"engagement_score\" , \"experience_score\", \"satisfaction_score\")"
   ]
  },
  {
   "cell_type": "code",
   "execution_count": null,
   "id": "cd430d22-75fd-4b0f-8ed3-77a8bc4caa76",
   "metadata": {},
   "outputs": [],
   "source": [
    "user_satisfaction_database.export_to_postgresql()"
   ]
  },
  {
   "cell_type": "code",
   "execution_count": null,
   "id": "70f3794a-ddbc-4bdc-ad40-c0fa8f9441af",
   "metadata": {},
   "outputs": [],
   "source": []
  }
 ],
 "metadata": {
  "kernelspec": {
   "display_name": "Python 3 (ipykernel)",
   "language": "python",
   "name": "python3"
  },
  "language_info": {
   "codemirror_mode": {
    "name": "ipython",
    "version": 3
   },
   "file_extension": ".py",
   "mimetype": "text/x-python",
   "name": "python",
   "nbconvert_exporter": "python",
   "pygments_lexer": "ipython3",
   "version": "3.8.10"
  }
 },
 "nbformat": 4,
 "nbformat_minor": 5
}
