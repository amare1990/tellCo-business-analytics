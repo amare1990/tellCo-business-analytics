{
 "cells": [
  {
   "cell_type": "code",
   "execution_count": 1,
   "id": "80014d84-0f8d-4305-893c-f5df964334f1",
   "metadata": {},
   "outputs": [],
   "source": [
    "# Getting parent directory of current direc and adding into the system path\n",
    "import os, sys\n",
    "parent_dir = os.path.dirname(os.getcwd())\n",
    "sys.path.insert(0, parent_dir)"
   ]
  },
  {
   "cell_type": "code",
   "execution_count": 2,
   "id": "01d687ef-46d9-4a7b-9903-896a80e8ca61",
   "metadata": {},
   "outputs": [],
   "source": [
    "import pandas as pd\n",
    "import numpy as np"
   ]
  },
  {
   "cell_type": "code",
   "execution_count": 3,
   "id": "ad6f3638-d4b1-40eb-8563-c2fd96504d0f",
   "metadata": {},
   "outputs": [],
   "source": [
    "df = pd.read_csv(\"/home/am/Documents/Software Development/10_Academy Training/week2/Data/Copy of Week2_challenge_data_source(CSV).csv\")"
   ]
  },
  {
   "cell_type": "code",
   "execution_count": 4,
   "id": "7f112838-645b-4659-b2ac-6002a1f7cba8",
   "metadata": {},
   "outputs": [],
   "source": [
    "numeric_columns = df.select_dtypes(include=['float64', 'int64'])"
   ]
  },
  {
   "cell_type": "code",
   "execution_count": 5,
   "id": "1d669de5-1852-4a23-910f-3aa0cbdf6de1",
   "metadata": {},
   "outputs": [],
   "source": [
    "# df.columns"
   ]
  },
  {
   "cell_type": "code",
   "execution_count": 6,
   "id": "c134eb32-354c-4e0c-befe-4b655b49c49d",
   "metadata": {
    "scrolled": true
   },
   "outputs": [],
   "source": [
    "from scripts.user_satisfaction_analysis import UserSatisfactionAnalyzer\n",
    "user_satisfaction = UserSatisfactionAnalyzer(df)"
   ]
  },
  {
   "cell_type": "code",
   "execution_count": 7,
   "id": "e3cddd79-db46-47d7-b300-d5aac9e4a166",
   "metadata": {},
   "outputs": [],
   "source": [
    "normalized_data, kmeans, clusters = user_satisfaction.normalize_and_cluster(df)"
   ]
  },
  {
   "cell_type": "code",
   "execution_count": 8,
   "id": "707fc536-ee0d-43af-8dc2-8c0962b12d33",
   "metadata": {},
   "outputs": [
    {
     "data": {
      "text/plain": [
       "array([1, 1, 1, ..., 1, 1, 1], dtype=int32)"
      ]
     },
     "execution_count": 8,
     "metadata": {},
     "output_type": "execute_result"
    }
   ],
   "source": [
    "clusters"
   ]
  },
  {
   "cell_type": "code",
   "execution_count": 9,
   "id": "26028afb-f183-447e-8256-660a5692c86e",
   "metadata": {},
   "outputs": [],
   "source": [
    "engagement_scores = user_satisfaction.assign_engagement_score()"
   ]
  },
  {
   "cell_type": "code",
   "execution_count": 10,
   "id": "43a5e5f2-306e-40af-bf10-d9def5332f96",
   "metadata": {},
   "outputs": [
    {
     "data": {
      "text/html": [
       "<div>\n",
       "<style scoped>\n",
       "    .dataframe tbody tr th:only-of-type {\n",
       "        vertical-align: middle;\n",
       "    }\n",
       "\n",
       "    .dataframe tbody tr th {\n",
       "        vertical-align: top;\n",
       "    }\n",
       "\n",
       "    .dataframe thead th {\n",
       "        text-align: right;\n",
       "    }\n",
       "</style>\n",
       "<table border=\"1\" class=\"dataframe\">\n",
       "  <thead>\n",
       "    <tr style=\"text-align: right;\">\n",
       "      <th></th>\n",
       "      <th>MSISDN/Number</th>\n",
       "      <th>engagement_score</th>\n",
       "    </tr>\n",
       "  </thead>\n",
       "  <tbody>\n",
       "    <tr>\n",
       "      <th>0</th>\n",
       "      <td>3.360100e+10</td>\n",
       "      <td>0.000461</td>\n",
       "    </tr>\n",
       "    <tr>\n",
       "      <th>1</th>\n",
       "      <td>3.360100e+10</td>\n",
       "      <td>0.001162</td>\n",
       "    </tr>\n",
       "    <tr>\n",
       "      <th>2</th>\n",
       "      <td>3.360100e+10</td>\n",
       "      <td>0.000154</td>\n",
       "    </tr>\n",
       "    <tr>\n",
       "      <th>3</th>\n",
       "      <td>3.360101e+10</td>\n",
       "      <td>0.001279</td>\n",
       "    </tr>\n",
       "    <tr>\n",
       "      <th>4</th>\n",
       "      <td>3.360101e+10</td>\n",
       "      <td>0.002001</td>\n",
       "    </tr>\n",
       "    <tr>\n",
       "      <th>...</th>\n",
       "      <td>...</td>\n",
       "      <td>...</td>\n",
       "    </tr>\n",
       "    <tr>\n",
       "      <th>106852</th>\n",
       "      <td>3.379000e+10</td>\n",
       "      <td>0.000378</td>\n",
       "    </tr>\n",
       "    <tr>\n",
       "      <th>106853</th>\n",
       "      <td>4.188282e+10</td>\n",
       "      <td>1.730326</td>\n",
       "    </tr>\n",
       "    <tr>\n",
       "      <th>106854</th>\n",
       "      <td>3.197021e+12</td>\n",
       "      <td>0.010256</td>\n",
       "    </tr>\n",
       "    <tr>\n",
       "      <th>106855</th>\n",
       "      <td>3.370000e+14</td>\n",
       "      <td>0.001622</td>\n",
       "    </tr>\n",
       "    <tr>\n",
       "      <th>106856</th>\n",
       "      <td>8.823971e+14</td>\n",
       "      <td>0.010168</td>\n",
       "    </tr>\n",
       "  </tbody>\n",
       "</table>\n",
       "<p>106857 rows × 2 columns</p>\n",
       "</div>"
      ],
      "text/plain": [
       "        MSISDN/Number  engagement_score\n",
       "0        3.360100e+10          0.000461\n",
       "1        3.360100e+10          0.001162\n",
       "2        3.360100e+10          0.000154\n",
       "3        3.360101e+10          0.001279\n",
       "4        3.360101e+10          0.002001\n",
       "...               ...               ...\n",
       "106852   3.379000e+10          0.000378\n",
       "106853   4.188282e+10          1.730326\n",
       "106854   3.197021e+12          0.010256\n",
       "106855   3.370000e+14          0.001622\n",
       "106856   8.823971e+14          0.010168\n",
       "\n",
       "[106857 rows x 2 columns]"
      ]
     },
     "execution_count": 10,
     "metadata": {},
     "output_type": "execute_result"
    }
   ],
   "source": [
    "engagement_scores"
   ]
  },
  {
   "cell_type": "code",
   "execution_count": 11,
   "id": "250a2848-d379-4bd0-8b0c-7a7d88555dda",
   "metadata": {},
   "outputs": [],
   "source": [
    "experience_score = user_satisfaction.assign_experience_score()"
   ]
  },
  {
   "cell_type": "code",
   "execution_count": 12,
   "id": "bd6bb578-e992-47a5-9d84-60783e8bb7ba",
   "metadata": {},
   "outputs": [
    {
     "data": {
      "text/html": [
       "<div>\n",
       "<style scoped>\n",
       "    .dataframe tbody tr th:only-of-type {\n",
       "        vertical-align: middle;\n",
       "    }\n",
       "\n",
       "    .dataframe tbody tr th {\n",
       "        vertical-align: top;\n",
       "    }\n",
       "\n",
       "    .dataframe thead th {\n",
       "        text-align: right;\n",
       "    }\n",
       "</style>\n",
       "<table border=\"1\" class=\"dataframe\">\n",
       "  <thead>\n",
       "    <tr style=\"text-align: right;\">\n",
       "      <th></th>\n",
       "      <th>MSISDN/Number</th>\n",
       "      <th>experience_score</th>\n",
       "    </tr>\n",
       "  </thead>\n",
       "  <tbody>\n",
       "    <tr>\n",
       "      <th>0</th>\n",
       "      <td>3.360100e+10</td>\n",
       "      <td>0.058493</td>\n",
       "    </tr>\n",
       "    <tr>\n",
       "      <th>1</th>\n",
       "      <td>3.360100e+10</td>\n",
       "      <td>0.076639</td>\n",
       "    </tr>\n",
       "    <tr>\n",
       "      <th>2</th>\n",
       "      <td>3.360100e+10</td>\n",
       "      <td>0.328630</td>\n",
       "    </tr>\n",
       "    <tr>\n",
       "      <th>3</th>\n",
       "      <td>3.360101e+10</td>\n",
       "      <td>0.386351</td>\n",
       "    </tr>\n",
       "    <tr>\n",
       "      <th>4</th>\n",
       "      <td>3.360101e+10</td>\n",
       "      <td>0.139133</td>\n",
       "    </tr>\n",
       "    <tr>\n",
       "      <th>...</th>\n",
       "      <td>...</td>\n",
       "      <td>...</td>\n",
       "    </tr>\n",
       "    <tr>\n",
       "      <th>106852</th>\n",
       "      <td>3.379000e+10</td>\n",
       "      <td>0.059662</td>\n",
       "    </tr>\n",
       "    <tr>\n",
       "      <th>106853</th>\n",
       "      <td>4.188282e+10</td>\n",
       "      <td>0.347985</td>\n",
       "    </tr>\n",
       "    <tr>\n",
       "      <th>106854</th>\n",
       "      <td>3.197021e+12</td>\n",
       "      <td>0.328804</td>\n",
       "    </tr>\n",
       "    <tr>\n",
       "      <th>106855</th>\n",
       "      <td>3.370000e+14</td>\n",
       "      <td>0.503890</td>\n",
       "    </tr>\n",
       "    <tr>\n",
       "      <th>106856</th>\n",
       "      <td>8.823971e+14</td>\n",
       "      <td>1.052662</td>\n",
       "    </tr>\n",
       "  </tbody>\n",
       "</table>\n",
       "<p>106857 rows × 2 columns</p>\n",
       "</div>"
      ],
      "text/plain": [
       "        MSISDN/Number  experience_score\n",
       "0        3.360100e+10          0.058493\n",
       "1        3.360100e+10          0.076639\n",
       "2        3.360100e+10          0.328630\n",
       "3        3.360101e+10          0.386351\n",
       "4        3.360101e+10          0.139133\n",
       "...               ...               ...\n",
       "106852   3.379000e+10          0.059662\n",
       "106853   4.188282e+10          0.347985\n",
       "106854   3.197021e+12          0.328804\n",
       "106855   3.370000e+14          0.503890\n",
       "106856   8.823971e+14          1.052662\n",
       "\n",
       "[106857 rows x 2 columns]"
      ]
     },
     "execution_count": 12,
     "metadata": {},
     "output_type": "execute_result"
    }
   ],
   "source": [
    "experience_score"
   ]
  },
  {
   "cell_type": "code",
   "execution_count": 13,
   "id": "421107d5-3c82-4c7f-9888-5862ef66c516",
   "metadata": {},
   "outputs": [],
   "source": [
    "merged_data, satisfaction_df, top10_customers = user_satisfaction.analyze_user_satisfaction()"
   ]
  },
  {
   "cell_type": "code",
   "execution_count": 14,
   "id": "530352f1-080a-4e95-b83e-dcb71f2d0a09",
   "metadata": {},
   "outputs": [
    {
     "data": {
      "text/html": [
       "<div>\n",
       "<style scoped>\n",
       "    .dataframe tbody tr th:only-of-type {\n",
       "        vertical-align: middle;\n",
       "    }\n",
       "\n",
       "    .dataframe tbody tr th {\n",
       "        vertical-align: top;\n",
       "    }\n",
       "\n",
       "    .dataframe thead th {\n",
       "        text-align: right;\n",
       "    }\n",
       "</style>\n",
       "<table border=\"1\" class=\"dataframe\">\n",
       "  <thead>\n",
       "    <tr style=\"text-align: right;\">\n",
       "      <th></th>\n",
       "      <th>MSISDN/Number</th>\n",
       "      <th>engagement_score</th>\n",
       "      <th>experience_score</th>\n",
       "      <th>satisfaction_score</th>\n",
       "    </tr>\n",
       "  </thead>\n",
       "  <tbody>\n",
       "    <tr>\n",
       "      <th>106853</th>\n",
       "      <td>4.188282e+10</td>\n",
       "      <td>1.730326</td>\n",
       "      <td>0.347985</td>\n",
       "      <td>1.039156</td>\n",
       "    </tr>\n",
       "    <tr>\n",
       "      <th>44404</th>\n",
       "      <td>3.366149e+10</td>\n",
       "      <td>0.000831</td>\n",
       "      <td>1.310372</td>\n",
       "      <td>0.655601</td>\n",
       "    </tr>\n",
       "    <tr>\n",
       "      <th>95390</th>\n",
       "      <td>3.376155e+10</td>\n",
       "      <td>0.001642</td>\n",
       "      <td>1.278100</td>\n",
       "      <td>0.639871</td>\n",
       "    </tr>\n",
       "    <tr>\n",
       "      <th>72685</th>\n",
       "      <td>3.366966e+10</td>\n",
       "      <td>0.000720</td>\n",
       "      <td>1.241955</td>\n",
       "      <td>0.621338</td>\n",
       "    </tr>\n",
       "    <tr>\n",
       "      <th>79445</th>\n",
       "      <td>3.368206e+10</td>\n",
       "      <td>0.000868</td>\n",
       "      <td>1.235210</td>\n",
       "      <td>0.618039</td>\n",
       "    </tr>\n",
       "    <tr>\n",
       "      <th>5717</th>\n",
       "      <td>3.361378e+10</td>\n",
       "      <td>0.001565</td>\n",
       "      <td>1.220970</td>\n",
       "      <td>0.611268</td>\n",
       "    </tr>\n",
       "    <tr>\n",
       "      <th>58501</th>\n",
       "      <td>3.366504e+10</td>\n",
       "      <td>0.001717</td>\n",
       "      <td>1.214605</td>\n",
       "      <td>0.608161</td>\n",
       "    </tr>\n",
       "    <tr>\n",
       "      <th>83842</th>\n",
       "      <td>3.369565e+10</td>\n",
       "      <td>0.001285</td>\n",
       "      <td>1.210420</td>\n",
       "      <td>0.605853</td>\n",
       "    </tr>\n",
       "    <tr>\n",
       "      <th>23986</th>\n",
       "      <td>3.365025e+10</td>\n",
       "      <td>0.000684</td>\n",
       "      <td>1.207604</td>\n",
       "      <td>0.604144</td>\n",
       "    </tr>\n",
       "    <tr>\n",
       "      <th>96024</th>\n",
       "      <td>3.376170e+10</td>\n",
       "      <td>0.000820</td>\n",
       "      <td>1.207463</td>\n",
       "      <td>0.604141</td>\n",
       "    </tr>\n",
       "  </tbody>\n",
       "</table>\n",
       "</div>"
      ],
      "text/plain": [
       "        MSISDN/Number  engagement_score  experience_score  satisfaction_score\n",
       "106853   4.188282e+10          1.730326          0.347985            1.039156\n",
       "44404    3.366149e+10          0.000831          1.310372            0.655601\n",
       "95390    3.376155e+10          0.001642          1.278100            0.639871\n",
       "72685    3.366966e+10          0.000720          1.241955            0.621338\n",
       "79445    3.368206e+10          0.000868          1.235210            0.618039\n",
       "5717     3.361378e+10          0.001565          1.220970            0.611268\n",
       "58501    3.366504e+10          0.001717          1.214605            0.608161\n",
       "83842    3.369565e+10          0.001285          1.210420            0.605853\n",
       "23986    3.365025e+10          0.000684          1.207604            0.604144\n",
       "96024    3.376170e+10          0.000820          1.207463            0.604141"
      ]
     },
     "execution_count": 14,
     "metadata": {},
     "output_type": "execute_result"
    }
   ],
   "source": [
    "top10_customers"
   ]
  },
  {
   "cell_type": "code",
   "execution_count": 15,
   "id": "b7198667-613f-48fc-8457-10a3eed6c206",
   "metadata": {},
   "outputs": [
    {
     "name": "stdout",
     "output_type": "stream",
     "text": [
      "Regression Model Coefficients: [[ 1.00000000e+00  4.53608409e-05 -9.89427108e-06  1.77332849e-05]\n",
      " [ 8.67181669e-18  8.33333333e-01 -1.66666667e-01  3.33333333e-01]\n",
      " [ 8.00653865e-16 -1.66666667e-01  8.33333333e-01  3.33333333e-01]\n",
      " [ 4.04662841e-16  3.33333333e-01  3.33333333e-01  3.33333333e-01]]\n",
      "Regression Model Intercept: [-2.28881836e-05 -4.16030371e-07 -3.84113660e-05 -1.94136982e-05]\n"
     ]
    }
   ],
   "source": [
    "model_regression = user_satisfaction.train_regression_model()"
   ]
  },
  {
   "cell_type": "code",
   "execution_count": 16,
   "id": "a6c5ef08-a438-42bf-8bc9-d03c99e42add",
   "metadata": {},
   "outputs": [
    {
     "name": "stderr",
     "output_type": "stream",
     "text": [
      "/home/am/Documents/Software Development/10_Academy Training/week2/tellCo-business-analytics/venv-tellCo/lib/python3.8/site-packages/sklearn/cluster/_kmeans.py:1416: FutureWarning: The default value of `n_init` will change from 10 to 'auto' in 1.4. Set the value of `n_init` explicitly to suppress the warning\n",
      "  super()._check_params_vs_input(X, default_n_init=10)\n"
     ]
    }
   ],
   "source": [
    "cluster_df = user_satisfaction.kmeans_clustering()"
   ]
  },
  {
   "cell_type": "code",
   "execution_count": 17,
   "id": "2ccfd1ed-9de0-4716-93e7-750f9e7e6466",
   "metadata": {},
   "outputs": [
    {
     "data": {
      "text/html": [
       "<div>\n",
       "<style scoped>\n",
       "    .dataframe tbody tr th:only-of-type {\n",
       "        vertical-align: middle;\n",
       "    }\n",
       "\n",
       "    .dataframe tbody tr th {\n",
       "        vertical-align: top;\n",
       "    }\n",
       "\n",
       "    .dataframe thead th {\n",
       "        text-align: right;\n",
       "    }\n",
       "</style>\n",
       "<table border=\"1\" class=\"dataframe\">\n",
       "  <thead>\n",
       "    <tr style=\"text-align: right;\">\n",
       "      <th></th>\n",
       "      <th>cluster</th>\n",
       "      <th>satisfaction_score</th>\n",
       "      <th>experience_score</th>\n",
       "    </tr>\n",
       "  </thead>\n",
       "  <tbody>\n",
       "    <tr>\n",
       "      <th>0</th>\n",
       "      <td>0</td>\n",
       "      <td>0.303461</td>\n",
       "      <td>0.605387</td>\n",
       "    </tr>\n",
       "    <tr>\n",
       "      <th>1</th>\n",
       "      <td>1</td>\n",
       "      <td>0.099132</td>\n",
       "      <td>0.196797</td>\n",
       "    </tr>\n",
       "  </tbody>\n",
       "</table>\n",
       "</div>"
      ],
      "text/plain": [
       "   cluster  satisfaction_score  experience_score\n",
       "0        0            0.303461          0.605387\n",
       "1        1            0.099132          0.196797"
      ]
     },
     "execution_count": 17,
     "metadata": {},
     "output_type": "execute_result"
    }
   ],
   "source": [
    "cluster_df"
   ]
  },
  {
   "cell_type": "code",
   "execution_count": null,
   "id": "cd430d22-75fd-4b0f-8ed3-77a8bc4caa76",
   "metadata": {},
   "outputs": [],
   "source": []
  }
 ],
 "metadata": {
  "kernelspec": {
   "display_name": "Python 3 (ipykernel)",
   "language": "python",
   "name": "python3"
  },
  "language_info": {
   "codemirror_mode": {
    "name": "ipython",
    "version": 3
   },
   "file_extension": ".py",
   "mimetype": "text/x-python",
   "name": "python",
   "nbconvert_exporter": "python",
   "pygments_lexer": "ipython3",
   "version": "3.8.10"
  }
 },
 "nbformat": 4,
 "nbformat_minor": 5
}
