{
 "cells": [
  {
   "cell_type": "code",
   "execution_count": 1,
   "id": "80014d84-0f8d-4305-893c-f5df964334f1",
   "metadata": {},
   "outputs": [],
   "source": [
    "# Getting parent directory of current direc and adding into the system path\n",
    "import os, sys\n",
    "parent_dir = os.path.dirname(os.getcwd())\n",
    "sys.path.insert(0, parent_dir)"
   ]
  },
  {
   "cell_type": "code",
   "execution_count": 2,
   "id": "01d687ef-46d9-4a7b-9903-896a80e8ca61",
   "metadata": {},
   "outputs": [],
   "source": [
    "import pandas as pd\n",
    "import numpy as np"
   ]
  },
  {
   "cell_type": "code",
   "execution_count": 3,
   "id": "ad6f3638-d4b1-40eb-8563-c2fd96504d0f",
   "metadata": {},
   "outputs": [],
   "source": [
    "df = pd.read_csv(\"/home/am/Documents/Software Development/10_Academy Training/week2/Data/Copy of Week2_challenge_data_source(CSV).csv\")"
   ]
  },
  {
   "cell_type": "code",
   "execution_count": 4,
   "id": "1d669de5-1852-4a23-910f-3aa0cbdf6de1",
   "metadata": {},
   "outputs": [
    {
     "data": {
      "text/plain": [
       "Index(['Bearer Id', 'Start', 'Start ms', 'End', 'End ms', 'Dur. (ms)', 'IMSI',\n",
       "       'MSISDN/Number', 'IMEI', 'Last Location Name', 'Avg RTT DL (ms)',\n",
       "       'Avg RTT UL (ms)', 'Avg Bearer TP DL (kbps)', 'Avg Bearer TP UL (kbps)',\n",
       "       'TCP DL Retrans. Vol (Bytes)', 'TCP UL Retrans. Vol (Bytes)',\n",
       "       'DL TP < 50 Kbps (%)', '50 Kbps < DL TP < 250 Kbps (%)',\n",
       "       '250 Kbps < DL TP < 1 Mbps (%)', 'DL TP > 1 Mbps (%)',\n",
       "       'UL TP < 10 Kbps (%)', '10 Kbps < UL TP < 50 Kbps (%)',\n",
       "       '50 Kbps < UL TP < 300 Kbps (%)', 'UL TP > 300 Kbps (%)',\n",
       "       'HTTP DL (Bytes)', 'HTTP UL (Bytes)', 'Activity Duration DL (ms)',\n",
       "       'Activity Duration UL (ms)', 'Dur. (ms).1', 'Handset Manufacturer',\n",
       "       'Handset Type', 'Nb of sec with 125000B < Vol DL',\n",
       "       'Nb of sec with 1250B < Vol UL < 6250B',\n",
       "       'Nb of sec with 31250B < Vol DL < 125000B',\n",
       "       'Nb of sec with 37500B < Vol UL',\n",
       "       'Nb of sec with 6250B < Vol DL < 31250B',\n",
       "       'Nb of sec with 6250B < Vol UL < 37500B',\n",
       "       'Nb of sec with Vol DL < 6250B', 'Nb of sec with Vol UL < 1250B',\n",
       "       'Social Media DL (Bytes)', 'Social Media UL (Bytes)',\n",
       "       'Google DL (Bytes)', 'Google UL (Bytes)', 'Email DL (Bytes)',\n",
       "       'Email UL (Bytes)', 'Youtube DL (Bytes)', 'Youtube UL (Bytes)',\n",
       "       'Netflix DL (Bytes)', 'Netflix UL (Bytes)', 'Gaming DL (Bytes)',\n",
       "       'Gaming UL (Bytes)', 'Other DL (Bytes)', 'Other UL (Bytes)',\n",
       "       'Total UL (Bytes)', 'Total DL (Bytes)'],\n",
       "      dtype='object')"
      ]
     },
     "execution_count": 4,
     "metadata": {},
     "output_type": "execute_result"
    }
   ],
   "source": [
    "# df.columns"
   ]
  },
  {
   "cell_type": "code",
   "execution_count": 5,
   "id": "c134eb32-354c-4e0c-befe-4b655b49c49d",
   "metadata": {},
   "outputs": [],
   "source": [
    "from scripts.user_satisfaction_analysis import UserSatisfactionAnalyzer\n",
    "user_satisfaction = UserSatisfactionAnalyzer(df)"
   ]
  },
  {
   "cell_type": "code",
   "execution_count": 6,
   "id": "e3cddd79-db46-47d7-b300-d5aac9e4a166",
   "metadata": {},
   "outputs": [],
   "source": [
    "agg_data, normalized_data = user_satisfaction.aggregate_and_normalize()"
   ]
  },
  {
   "cell_type": "code",
   "execution_count": 7,
   "id": "707fc536-ee0d-43af-8dc2-8c0962b12d33",
   "metadata": {},
   "outputs": [
    {
     "data": {
      "text/html": [
       "<div>\n",
       "<style scoped>\n",
       "    .dataframe tbody tr th:only-of-type {\n",
       "        vertical-align: middle;\n",
       "    }\n",
       "\n",
       "    .dataframe tbody tr th {\n",
       "        vertical-align: top;\n",
       "    }\n",
       "\n",
       "    .dataframe thead th {\n",
       "        text-align: right;\n",
       "    }\n",
       "</style>\n",
       "<table border=\"1\" class=\"dataframe\">\n",
       "  <thead>\n",
       "    <tr style=\"text-align: right;\">\n",
       "      <th></th>\n",
       "      <th>MSISDN/Number</th>\n",
       "      <th>session_frequency</th>\n",
       "      <th>session_duration</th>\n",
       "      <th>session_traffic</th>\n",
       "    </tr>\n",
       "  </thead>\n",
       "  <tbody>\n",
       "    <tr>\n",
       "      <th>count</th>\n",
       "      <td>1.068560e+05</td>\n",
       "      <td>106856.000000</td>\n",
       "      <td>1.068560e+05</td>\n",
       "      <td>1.068560e+05</td>\n",
       "    </tr>\n",
       "    <tr>\n",
       "      <th>mean</th>\n",
       "      <td>4.511474e+10</td>\n",
       "      <td>2.587819</td>\n",
       "      <td>1.461672e+05</td>\n",
       "      <td>6.909621e+08</td>\n",
       "    </tr>\n",
       "    <tr>\n",
       "      <th>std</th>\n",
       "      <td>2.889423e+12</td>\n",
       "      <td>4.944608</td>\n",
       "      <td>1.863587e+05</td>\n",
       "      <td>4.910559e+08</td>\n",
       "    </tr>\n",
       "    <tr>\n",
       "      <th>min</th>\n",
       "      <td>3.360100e+10</td>\n",
       "      <td>0.000000</td>\n",
       "      <td>7.142000e+03</td>\n",
       "      <td>3.324901e+07</td>\n",
       "    </tr>\n",
       "    <tr>\n",
       "      <th>25%</th>\n",
       "      <td>3.365088e+10</td>\n",
       "      <td>1.000000</td>\n",
       "      <td>7.130800e+04</td>\n",
       "      <td>3.585499e+08</td>\n",
       "    </tr>\n",
       "    <tr>\n",
       "      <th>50%</th>\n",
       "      <td>3.366365e+10</td>\n",
       "      <td>1.000000</td>\n",
       "      <td>1.027400e+05</td>\n",
       "      <td>6.179231e+08</td>\n",
       "    </tr>\n",
       "    <tr>\n",
       "      <th>75%</th>\n",
       "      <td>3.368344e+10</td>\n",
       "      <td>4.000000</td>\n",
       "      <td>1.727990e+05</td>\n",
       "      <td>8.574351e+08</td>\n",
       "    </tr>\n",
       "    <tr>\n",
       "      <th>max</th>\n",
       "      <td>8.823971e+14</td>\n",
       "      <td>324.000000</td>\n",
       "      <td>1.855375e+07</td>\n",
       "      <td>8.846226e+09</td>\n",
       "    </tr>\n",
       "  </tbody>\n",
       "</table>\n",
       "</div>"
      ],
      "text/plain": [
       "       MSISDN/Number  session_frequency  session_duration  session_traffic\n",
       "count   1.068560e+05      106856.000000      1.068560e+05     1.068560e+05\n",
       "mean    4.511474e+10           2.587819      1.461672e+05     6.909621e+08\n",
       "std     2.889423e+12           4.944608      1.863587e+05     4.910559e+08\n",
       "min     3.360100e+10           0.000000      7.142000e+03     3.324901e+07\n",
       "25%     3.365088e+10           1.000000      7.130800e+04     3.585499e+08\n",
       "50%     3.366365e+10           1.000000      1.027400e+05     6.179231e+08\n",
       "75%     3.368344e+10           4.000000      1.727990e+05     8.574351e+08\n",
       "max     8.823971e+14         324.000000      1.855375e+07     8.846226e+09"
      ]
     },
     "execution_count": 7,
     "metadata": {},
     "output_type": "execute_result"
    }
   ],
   "source": [
    "agg_data.describe()"
   ]
  },
  {
   "cell_type": "code",
   "execution_count": 8,
   "id": "d36b629a-2a69-40f6-bdec-d4490f862163",
   "metadata": {},
   "outputs": [
    {
     "data": {
      "text/plain": [
       "array([[0.00308642, 0.00590825, 0.09593143],\n",
       "       [0.00308642, 0.00938651, 0.01402598],\n",
       "       [0.00308642, 0.0068922 , 0.06385101],\n",
       "       ...,\n",
       "       [0.00308642, 0.04692194, 0.02256615],\n",
       "       [0.00308642, 0.01325784, 0.06388747],\n",
       "       [0.00308642, 0.04651534, 0.0120169 ]])"
      ]
     },
     "execution_count": 8,
     "metadata": {},
     "output_type": "execute_result"
    }
   ],
   "source": [
    "normalized_data"
   ]
  },
  {
   "cell_type": "code",
   "execution_count": 9,
   "id": "d3467934-29d4-48ad-aad7-280cd7843326",
   "metadata": {},
   "outputs": [],
   "source": [
    "clusters, kmeans = user_satisfaction.perform_clustering(normalized_data, k=3)"
   ]
  },
  {
   "cell_type": "code",
   "execution_count": 10,
   "id": "a94aa8ed-a3d8-40c8-b864-8b7688a07744",
   "metadata": {},
   "outputs": [
    {
     "data": {
      "text/plain": [
       "array([0, 1, 1, ..., 1, 1, 1], dtype=int32)"
      ]
     },
     "execution_count": 10,
     "metadata": {},
     "output_type": "execute_result"
    }
   ],
   "source": [
    "clusters"
   ]
  },
  {
   "cell_type": "code",
   "execution_count": 11,
   "id": "b377931f-57c2-4cd2-a703-92bed8626998",
   "metadata": {},
   "outputs": [
    {
     "data": {
      "text/html": [
       "<style>#sk-container-id-1 {color: black;}#sk-container-id-1 pre{padding: 0;}#sk-container-id-1 div.sk-toggleable {background-color: white;}#sk-container-id-1 label.sk-toggleable__label {cursor: pointer;display: block;width: 100%;margin-bottom: 0;padding: 0.3em;box-sizing: border-box;text-align: center;}#sk-container-id-1 label.sk-toggleable__label-arrow:before {content: \"▸\";float: left;margin-right: 0.25em;color: #696969;}#sk-container-id-1 label.sk-toggleable__label-arrow:hover:before {color: black;}#sk-container-id-1 div.sk-estimator:hover label.sk-toggleable__label-arrow:before {color: black;}#sk-container-id-1 div.sk-toggleable__content {max-height: 0;max-width: 0;overflow: hidden;text-align: left;background-color: #f0f8ff;}#sk-container-id-1 div.sk-toggleable__content pre {margin: 0.2em;color: black;border-radius: 0.25em;background-color: #f0f8ff;}#sk-container-id-1 input.sk-toggleable__control:checked~div.sk-toggleable__content {max-height: 200px;max-width: 100%;overflow: auto;}#sk-container-id-1 input.sk-toggleable__control:checked~label.sk-toggleable__label-arrow:before {content: \"▾\";}#sk-container-id-1 div.sk-estimator input.sk-toggleable__control:checked~label.sk-toggleable__label {background-color: #d4ebff;}#sk-container-id-1 div.sk-label input.sk-toggleable__control:checked~label.sk-toggleable__label {background-color: #d4ebff;}#sk-container-id-1 input.sk-hidden--visually {border: 0;clip: rect(1px 1px 1px 1px);clip: rect(1px, 1px, 1px, 1px);height: 1px;margin: -1px;overflow: hidden;padding: 0;position: absolute;width: 1px;}#sk-container-id-1 div.sk-estimator {font-family: monospace;background-color: #f0f8ff;border: 1px dotted black;border-radius: 0.25em;box-sizing: border-box;margin-bottom: 0.5em;}#sk-container-id-1 div.sk-estimator:hover {background-color: #d4ebff;}#sk-container-id-1 div.sk-parallel-item::after {content: \"\";width: 100%;border-bottom: 1px solid gray;flex-grow: 1;}#sk-container-id-1 div.sk-label:hover label.sk-toggleable__label {background-color: #d4ebff;}#sk-container-id-1 div.sk-serial::before {content: \"\";position: absolute;border-left: 1px solid gray;box-sizing: border-box;top: 0;bottom: 0;left: 50%;z-index: 0;}#sk-container-id-1 div.sk-serial {display: flex;flex-direction: column;align-items: center;background-color: white;padding-right: 0.2em;padding-left: 0.2em;position: relative;}#sk-container-id-1 div.sk-item {position: relative;z-index: 1;}#sk-container-id-1 div.sk-parallel {display: flex;align-items: stretch;justify-content: center;background-color: white;position: relative;}#sk-container-id-1 div.sk-item::before, #sk-container-id-1 div.sk-parallel-item::before {content: \"\";position: absolute;border-left: 1px solid gray;box-sizing: border-box;top: 0;bottom: 0;left: 50%;z-index: -1;}#sk-container-id-1 div.sk-parallel-item {display: flex;flex-direction: column;z-index: 1;position: relative;background-color: white;}#sk-container-id-1 div.sk-parallel-item:first-child::after {align-self: flex-end;width: 50%;}#sk-container-id-1 div.sk-parallel-item:last-child::after {align-self: flex-start;width: 50%;}#sk-container-id-1 div.sk-parallel-item:only-child::after {width: 0;}#sk-container-id-1 div.sk-dashed-wrapped {border: 1px dashed gray;margin: 0 0.4em 0.5em 0.4em;box-sizing: border-box;padding-bottom: 0.4em;background-color: white;}#sk-container-id-1 div.sk-label label {font-family: monospace;font-weight: bold;display: inline-block;line-height: 1.2em;}#sk-container-id-1 div.sk-label-container {text-align: center;}#sk-container-id-1 div.sk-container {/* jupyter's `normalize.less` sets `[hidden] { display: none; }` but bootstrap.min.css set `[hidden] { display: none !important; }` so we also need the `!important` here to be able to override the default hidden behavior on the sphinx rendered scikit-learn.org. See: https://github.com/scikit-learn/scikit-learn/issues/21755 */display: inline-block !important;position: relative;}#sk-container-id-1 div.sk-text-repr-fallback {display: none;}</style><div id=\"sk-container-id-1\" class=\"sk-top-container\"><div class=\"sk-text-repr-fallback\"><pre>KMeans(n_clusters=3, n_init=10, random_state=42)</pre><b>In a Jupyter environment, please rerun this cell to show the HTML representation or trust the notebook. <br />On GitHub, the HTML representation is unable to render, please try loading this page with nbviewer.org.</b></div><div class=\"sk-container\" hidden><div class=\"sk-item\"><div class=\"sk-estimator sk-toggleable\"><input class=\"sk-toggleable__control sk-hidden--visually\" id=\"sk-estimator-id-1\" type=\"checkbox\" checked><label for=\"sk-estimator-id-1\" class=\"sk-toggleable__label sk-toggleable__label-arrow\">KMeans</label><div class=\"sk-toggleable__content\"><pre>KMeans(n_clusters=3, n_init=10, random_state=42)</pre></div></div></div></div></div>"
      ],
      "text/plain": [
       "KMeans(n_clusters=3, n_init=10, random_state=42)"
      ]
     },
     "execution_count": 11,
     "metadata": {},
     "output_type": "execute_result"
    }
   ],
   "source": [
    "kmeans"
   ]
  },
  {
   "cell_type": "code",
   "execution_count": 13,
   "id": "4117ba30-eb02-49b1-b50f-a2e26b5d7414",
   "metadata": {},
   "outputs": [],
   "source": [
    "stats = user_satisfaction.compute_cluster_statistics(agg_data, clusters)"
   ]
  },
  {
   "cell_type": "code",
   "execution_count": 14,
   "id": "913fd6e8-23db-43cb-9d4b-843f7c6e5385",
   "metadata": {},
   "outputs": [
    {
     "data": {
      "text/html": [
       "<div>\n",
       "<style scoped>\n",
       "    .dataframe tbody tr th:only-of-type {\n",
       "        vertical-align: middle;\n",
       "    }\n",
       "\n",
       "    .dataframe tbody tr th {\n",
       "        vertical-align: top;\n",
       "    }\n",
       "\n",
       "    .dataframe thead tr th {\n",
       "        text-align: left;\n",
       "    }\n",
       "\n",
       "    .dataframe thead tr:last-of-type th {\n",
       "        text-align: right;\n",
       "    }\n",
       "</style>\n",
       "<table border=\"1\" class=\"dataframe\">\n",
       "  <thead>\n",
       "    <tr>\n",
       "      <th></th>\n",
       "      <th colspan=\"4\" halign=\"left\">session_frequency</th>\n",
       "      <th colspan=\"4\" halign=\"left\">session_duration</th>\n",
       "      <th colspan=\"4\" halign=\"left\">session_traffic</th>\n",
       "    </tr>\n",
       "    <tr>\n",
       "      <th></th>\n",
       "      <th>min</th>\n",
       "      <th>max</th>\n",
       "      <th>mean</th>\n",
       "      <th>sum</th>\n",
       "      <th>min</th>\n",
       "      <th>max</th>\n",
       "      <th>mean</th>\n",
       "      <th>sum</th>\n",
       "      <th>min</th>\n",
       "      <th>max</th>\n",
       "      <th>mean</th>\n",
       "      <th>sum</th>\n",
       "    </tr>\n",
       "    <tr>\n",
       "      <th>cluster</th>\n",
       "      <th></th>\n",
       "      <th></th>\n",
       "      <th></th>\n",
       "      <th></th>\n",
       "      <th></th>\n",
       "      <th></th>\n",
       "      <th></th>\n",
       "      <th></th>\n",
       "      <th></th>\n",
       "      <th></th>\n",
       "      <th></th>\n",
       "      <th></th>\n",
       "    </tr>\n",
       "  </thead>\n",
       "  <tbody>\n",
       "    <tr>\n",
       "      <th>0</th>\n",
       "      <td>0.0</td>\n",
       "      <td>25.0</td>\n",
       "      <td>2.346430</td>\n",
       "      <td>110362.0</td>\n",
       "      <td>7146.0</td>\n",
       "      <td>3174824.0</td>\n",
       "      <td>141153.420037</td>\n",
       "      <td>6.639010e+09</td>\n",
       "      <td>5.851174e+08</td>\n",
       "      <td>1.427100e+09</td>\n",
       "      <td>8.510926e+08</td>\n",
       "      <td>4.003029e+13</td>\n",
       "    </tr>\n",
       "    <tr>\n",
       "      <th>1</th>\n",
       "      <td>0.0</td>\n",
       "      <td>16.0</td>\n",
       "      <td>1.181073</td>\n",
       "      <td>60641.0</td>\n",
       "      <td>7142.0</td>\n",
       "      <td>1576929.0</td>\n",
       "      <td>108558.140659</td>\n",
       "      <td>5.573809e+09</td>\n",
       "      <td>3.324901e+07</td>\n",
       "      <td>6.005611e+08</td>\n",
       "      <td>3.434418e+08</td>\n",
       "      <td>1.763368e+13</td>\n",
       "    </tr>\n",
       "    <tr>\n",
       "      <th>2</th>\n",
       "      <td>2.0</td>\n",
       "      <td>324.0</td>\n",
       "      <td>12.446450</td>\n",
       "      <td>105521.0</td>\n",
       "      <td>23292.0</td>\n",
       "      <td>18553754.0</td>\n",
       "      <td>401747.879689</td>\n",
       "      <td>3.406019e+09</td>\n",
       "      <td>1.260555e+09</td>\n",
       "      <td>8.846226e+09</td>\n",
       "      <td>1.907228e+09</td>\n",
       "      <td>1.616948e+13</td>\n",
       "    </tr>\n",
       "  </tbody>\n",
       "</table>\n",
       "</div>"
      ],
      "text/plain": [
       "        session_frequency                             session_duration  \\\n",
       "                      min    max       mean       sum              min   \n",
       "cluster                                                                  \n",
       "0                     0.0   25.0   2.346430  110362.0           7146.0   \n",
       "1                     0.0   16.0   1.181073   60641.0           7142.0   \n",
       "2                     2.0  324.0  12.446450  105521.0          23292.0   \n",
       "\n",
       "                                                 session_traffic  \\\n",
       "                max           mean           sum             min   \n",
       "cluster                                                            \n",
       "0         3174824.0  141153.420037  6.639010e+09    5.851174e+08   \n",
       "1         1576929.0  108558.140659  5.573809e+09    3.324901e+07   \n",
       "2        18553754.0  401747.879689  3.406019e+09    1.260555e+09   \n",
       "\n",
       "                                                   \n",
       "                  max          mean           sum  \n",
       "cluster                                            \n",
       "0        1.427100e+09  8.510926e+08  4.003029e+13  \n",
       "1        6.005611e+08  3.434418e+08  1.763368e+13  \n",
       "2        8.846226e+09  1.907228e+09  1.616948e+13  "
      ]
     },
     "execution_count": 14,
     "metadata": {},
     "output_type": "execute_result"
    }
   ],
   "source": [
    "print(\"Cluster Statistics:\\n\")\n",
    "    # Iterate over the clusters and their statistics\n",
    "    for cluster, data in stats.iterrows():\n",
    "        print(f\"Cluster {cluster}:\")\n",
    "        print(\"  Session Frequency:\")\n",
    "        print(f\"    Min: {data[('session_frequency', 'min')]:.2f}\")\n",
    "        print(f\"    Max: {data[('session_frequency', 'max')]:.2f}\")\n",
    "        print(f\"    Mean: {data[('session_frequency', 'mean')]:.2f}\")\n",
    "        print(f\"    Sum: {data[('session_frequency', 'sum')]:.2f}\")\n",
    "        print(\"  Session Duration:\")\n",
    "        print(f\"    Min: {data[('session_duration', 'min')]:.2f}\")\n",
    "        print(f\"    Max: {data[('session_duration', 'max')]:.2f}\")\n",
    "        print(f\"    Mean: {data[('session_duration', 'mean')]:.2f}\")\n",
    "        print(f\"    Sum: {data[('session_duration', 'sum')]:.2f}\")\n",
    "        print(\"  Session Traffic:\")\n",
    "        print(f\"    Min: {data[('session_traffic', 'min')]:.2f}\")\n",
    "        print(f\"    Max: {data[('session_traffic', 'max')]:.2f}\")\n",
    "        print(f\"    Mean: {data[('session_traffic', 'mean')]:.2f}\")\n",
    "        print(f\"    Sum: {data[('session_traffic', 'sum')]:.2f}\")\n",
    "        print(\"-\" * 40)"
   ]
  },
  {
   "cell_type": "code",
   "execution_count": null,
   "id": "26028afb-f183-447e-8256-660a5692c86e",
   "metadata": {},
   "outputs": [],
   "source": []
  }
 ],
 "metadata": {
  "kernelspec": {
   "display_name": "Python 3 (ipykernel)",
   "language": "python",
   "name": "python3"
  },
  "language_info": {
   "codemirror_mode": {
    "name": "ipython",
    "version": 3
   },
   "file_extension": ".py",
   "mimetype": "text/x-python",
   "name": "python",
   "nbconvert_exporter": "python",
   "pygments_lexer": "ipython3",
   "version": "3.8.10"
  }
 },
 "nbformat": 4,
 "nbformat_minor": 5
}
