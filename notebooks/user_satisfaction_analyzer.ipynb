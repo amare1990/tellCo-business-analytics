{
 "cells": [
  {
   "cell_type": "code",
   "execution_count": 1,
   "id": "80014d84-0f8d-4305-893c-f5df964334f1",
   "metadata": {},
   "outputs": [],
   "source": [
    "# Getting parent directory of current direc and adding into the system path\n",
    "import os, sys\n",
    "parent_dir = os.path.dirname(os.getcwd())\n",
    "sys.path.insert(0, parent_dir)"
   ]
  },
  {
   "cell_type": "code",
   "execution_count": 2,
   "id": "01d687ef-46d9-4a7b-9903-896a80e8ca61",
   "metadata": {},
   "outputs": [],
   "source": [
    "import pandas as pd\n",
    "import numpy as np"
   ]
  },
  {
   "cell_type": "code",
   "execution_count": 3,
   "id": "ad6f3638-d4b1-40eb-8563-c2fd96504d0f",
   "metadata": {},
   "outputs": [],
   "source": [
    "df = pd.read_csv(\"/home/am/Documents/Software Development/10_Academy Training/week2/Data/Copy of Week2_challenge_data_source(CSV).csv\")"
   ]
  },
  {
   "cell_type": "code",
   "execution_count": 4,
   "id": "7f112838-645b-4659-b2ac-6002a1f7cba8",
   "metadata": {},
   "outputs": [],
   "source": [
    "numeric_columns = df.select_dtypes(include=['float64', 'int64'])"
   ]
  },
  {
   "cell_type": "code",
   "execution_count": 5,
   "id": "1d669de5-1852-4a23-910f-3aa0cbdf6de1",
   "metadata": {},
   "outputs": [],
   "source": [
    "# df.columns"
   ]
  },
  {
   "cell_type": "code",
   "execution_count": 6,
   "id": "c134eb32-354c-4e0c-befe-4b655b49c49d",
   "metadata": {
    "scrolled": true
   },
   "outputs": [],
   "source": [
    "from scripts.user_satisfaction_analysis import UserSatisfactionAnalyzer\n",
    "user_satisfaction = UserSatisfactionAnalyzer(df)"
   ]
  },
  {
   "cell_type": "code",
   "execution_count": 7,
   "id": "e3cddd79-db46-47d7-b300-d5aac9e4a166",
   "metadata": {},
   "outputs": [],
   "source": [
    "normalized_data, kmeans, clusters = user_satisfaction.normalize_and_cluster(df)"
   ]
  },
  {
   "cell_type": "code",
   "execution_count": 8,
   "id": "707fc536-ee0d-43af-8dc2-8c0962b12d33",
   "metadata": {},
   "outputs": [
    {
     "data": {
      "text/plain": [
       "array([1, 1, 1, ..., 1, 1, 1], dtype=int32)"
      ]
     },
     "execution_count": 8,
     "metadata": {},
     "output_type": "execute_result"
    }
   ],
   "source": [
    "clusters"
   ]
  },
  {
   "cell_type": "code",
   "execution_count": 9,
   "id": "26028afb-f183-447e-8256-660a5692c86e",
   "metadata": {},
   "outputs": [],
   "source": [
    "engagement_scores = user_satisfaction.assign_engagement_score()"
   ]
  },
  {
   "cell_type": "code",
   "execution_count": 10,
   "id": "43a5e5f2-306e-40af-bf10-d9def5332f96",
   "metadata": {},
   "outputs": [
    {
     "data": {
      "text/html": [
       "<div>\n",
       "<style scoped>\n",
       "    .dataframe tbody tr th:only-of-type {\n",
       "        vertical-align: middle;\n",
       "    }\n",
       "\n",
       "    .dataframe tbody tr th {\n",
       "        vertical-align: top;\n",
       "    }\n",
       "\n",
       "    .dataframe thead th {\n",
       "        text-align: right;\n",
       "    }\n",
       "</style>\n",
       "<table border=\"1\" class=\"dataframe\">\n",
       "  <thead>\n",
       "    <tr style=\"text-align: right;\">\n",
       "      <th></th>\n",
       "      <th>MSISDN/Number</th>\n",
       "      <th>engagement_score</th>\n",
       "    </tr>\n",
       "  </thead>\n",
       "  <tbody>\n",
       "    <tr>\n",
       "      <th>0</th>\n",
       "      <td>3.360100e+10</td>\n",
       "      <td>0.000461</td>\n",
       "    </tr>\n",
       "    <tr>\n",
       "      <th>1</th>\n",
       "      <td>3.360100e+10</td>\n",
       "      <td>0.001162</td>\n",
       "    </tr>\n",
       "    <tr>\n",
       "      <th>2</th>\n",
       "      <td>3.360100e+10</td>\n",
       "      <td>0.000154</td>\n",
       "    </tr>\n",
       "    <tr>\n",
       "      <th>3</th>\n",
       "      <td>3.360101e+10</td>\n",
       "      <td>0.001279</td>\n",
       "    </tr>\n",
       "    <tr>\n",
       "      <th>4</th>\n",
       "      <td>3.360101e+10</td>\n",
       "      <td>0.002001</td>\n",
       "    </tr>\n",
       "    <tr>\n",
       "      <th>...</th>\n",
       "      <td>...</td>\n",
       "      <td>...</td>\n",
       "    </tr>\n",
       "    <tr>\n",
       "      <th>106852</th>\n",
       "      <td>3.379000e+10</td>\n",
       "      <td>0.000378</td>\n",
       "    </tr>\n",
       "    <tr>\n",
       "      <th>106853</th>\n",
       "      <td>4.188282e+10</td>\n",
       "      <td>1.730326</td>\n",
       "    </tr>\n",
       "    <tr>\n",
       "      <th>106854</th>\n",
       "      <td>3.197021e+12</td>\n",
       "      <td>0.010256</td>\n",
       "    </tr>\n",
       "    <tr>\n",
       "      <th>106855</th>\n",
       "      <td>3.370000e+14</td>\n",
       "      <td>0.001622</td>\n",
       "    </tr>\n",
       "    <tr>\n",
       "      <th>106856</th>\n",
       "      <td>8.823971e+14</td>\n",
       "      <td>0.010168</td>\n",
       "    </tr>\n",
       "  </tbody>\n",
       "</table>\n",
       "<p>106857 rows × 2 columns</p>\n",
       "</div>"
      ],
      "text/plain": [
       "        MSISDN/Number  engagement_score\n",
       "0        3.360100e+10          0.000461\n",
       "1        3.360100e+10          0.001162\n",
       "2        3.360100e+10          0.000154\n",
       "3        3.360101e+10          0.001279\n",
       "4        3.360101e+10          0.002001\n",
       "...               ...               ...\n",
       "106852   3.379000e+10          0.000378\n",
       "106853   4.188282e+10          1.730326\n",
       "106854   3.197021e+12          0.010256\n",
       "106855   3.370000e+14          0.001622\n",
       "106856   8.823971e+14          0.010168\n",
       "\n",
       "[106857 rows x 2 columns]"
      ]
     },
     "execution_count": 10,
     "metadata": {},
     "output_type": "execute_result"
    }
   ],
   "source": [
    "engagement_scores"
   ]
  },
  {
   "cell_type": "code",
   "execution_count": 11,
   "id": "250a2848-d379-4bd0-8b0c-7a7d88555dda",
   "metadata": {},
   "outputs": [],
   "source": [
    "experience_score = user_satisfaction.assign_experience_score()"
   ]
  },
  {
   "cell_type": "code",
   "execution_count": null,
   "id": "bd6bb578-e992-47a5-9d84-60783e8bb7ba",
   "metadata": {},
   "outputs": [],
   "source": []
  }
 ],
 "metadata": {
  "kernelspec": {
   "display_name": "Python 3 (ipykernel)",
   "language": "python",
   "name": "python3"
  },
  "language_info": {
   "codemirror_mode": {
    "name": "ipython",
    "version": 3
   },
   "file_extension": ".py",
   "mimetype": "text/x-python",
   "name": "python",
   "nbconvert_exporter": "python",
   "pygments_lexer": "ipython3",
   "version": "3.8.10"
  }
 },
 "nbformat": 4,
 "nbformat_minor": 5
}
